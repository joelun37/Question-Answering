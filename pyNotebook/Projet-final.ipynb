{
 "cells": [
  {
   "cell_type": "markdown",
   "metadata": {},
   "source": [
    "# Google Natural Questions"
   ]
  },
  {
   "cell_type": "markdown",
   "metadata": {},
   "source": [
    "## Introduction\n",
    "\n",
    "Le but de ce challenge est de créer un modèle d'apprentissage statistique pour répondre aux questions posées en se servant d'un corps de texte (i.e. Wikipedia). Pour accéder au lien du *challenge*, veuillez clicquez [ici](https://ai.google.com/research/NaturalQuestions)."
   ]
  },
  {
   "cell_type": "markdown",
   "metadata": {},
   "source": [
    "## Présentation des données\n",
    "\n",
    "Dans cette partie nous présentons les données fournies. Le format des données d'apprentissage est `json`. En revanche Google a créé une version tabulée des données qui se trouve dans ce [lien](https://ai.google.com/research/NaturalQuestions/databrowser).\n",
    "\n",
    "Nous utiliserons les données simplifiées par Google:\n",
    "\n",
    "- **simplified-nq-train.jsonl**: 17.45 Go\n",
    "- **simplified-nq-test.jsonl**: 18.8 Mo\n",
    "\n",
    "La base d'apprentissage étant assez volumineuse, nous utiliserons le Google Cloud Platform pour nos calculs.\n",
    "\n",
    "Ci-dessous, les nombres d'observations dans les bases fournies par Google:\n",
    "\n",
    "- **Base d'apprentissage:** 307 373 observations\n",
    "- **Base de validation (ou de développement):** 7 830 observations\n",
    "- **Base de test:** 7 842 observations"
   ]
  },
  {
   "cell_type": "code",
   "execution_count": 4,
   "metadata": {},
   "outputs": [
    {
     "data": {
      "text/html": [
       "\n",
       "            <div>\n",
       "                <p><b>SparkSession - in-memory</b></p>\n",
       "                \n",
       "        <div>\n",
       "            <p><b>SparkContext</b></p>\n",
       "\n",
       "            <p><a href=\"http://aytuncs-mbp-001:4040\">Spark UI</a></p>\n",
       "\n",
       "            <dl>\n",
       "              <dt>Version</dt>\n",
       "                <dd><code>v2.4.5</code></dd>\n",
       "              <dt>Master</dt>\n",
       "                <dd><code>local[*]</code></dd>\n",
       "              <dt>AppName</dt>\n",
       "                <dd><code>QA</code></dd>\n",
       "            </dl>\n",
       "        </div>\n",
       "        \n",
       "            </div>\n",
       "        "
      ],
      "text/plain": [
       "<pyspark.sql.session.SparkSession at 0x11800d668>"
      ]
     },
     "execution_count": 4,
     "metadata": {},
     "output_type": "execute_result"
    }
   ],
   "source": [
    "import findspark\n",
    "findspark.init()\n",
    "from pyspark.sql import SparkSession\n",
    "from pyspark import SparkConf\n",
    "from pyspark.sql import *\n",
    "from pyspark.sql.functions import *\n",
    "from pyspark.sql.types import *\n",
    "import time\n",
    "\n",
    "local = \"local[*]\"\n",
    "appName = \"QA\"\n",
    "configLocale = SparkConf().setAppName(appName).setMaster(local).\\\n",
    "set(\"spark.executor.memory\", \"6G\").\\\n",
    "set(\"spark.driver.memory\", \"6G\").\\\n",
    "set(\"spark.sql.catalogImplementation\", \"in-memory\")\n",
    "\n",
    "spark = SparkSession.builder.config(conf = configLocale).getOrCreate()\n",
    "sc = spark.sparkContext\n",
    "sc.setLogLevel(\"ERROR\")\n",
    "spark"
   ]
  },
  {
   "cell_type": "markdown",
   "metadata": {},
   "source": [
    "Afin d'inspecter le format du fichier `json`nous avons créé une version courte, que nous chargeons ici."
   ]
  },
  {
   "cell_type": "code",
   "execution_count": 20,
   "metadata": {},
   "outputs": [],
   "source": [
    "for_content = spark.read.json(\"/Volumes/750GB-HDD/root/Question-Answering/pyData/tensorflow2-question-answering/simplified-nq-train-for-content.json\")"
   ]
  },
  {
   "cell_type": "code",
   "execution_count": 18,
   "metadata": {},
   "outputs": [
    {
     "name": "stdout",
     "output_type": "stream",
     "text": [
      "root\n",
      " |-- annotations: array (nullable = true)\n",
      " |    |-- element: struct (containsNull = true)\n",
      " |    |    |-- annotation_id: long (nullable = true)\n",
      " |    |    |-- long_answer: struct (nullable = true)\n",
      " |    |    |    |-- candidate_index: long (nullable = true)\n",
      " |    |    |    |-- end_token: long (nullable = true)\n",
      " |    |    |    |-- start_token: long (nullable = true)\n",
      " |    |    |-- short_answers: array (nullable = true)\n",
      " |    |    |    |-- element: struct (containsNull = true)\n",
      " |    |    |    |    |-- end_token: long (nullable = true)\n",
      " |    |    |    |    |-- start_token: long (nullable = true)\n",
      " |    |    |-- yes_no_answer: string (nullable = true)\n",
      " |-- document_text: string (nullable = true)\n",
      " |-- document_url: string (nullable = true)\n",
      " |-- example_id: long (nullable = true)\n",
      " |-- long_answer_candidates: array (nullable = true)\n",
      " |    |-- element: struct (containsNull = true)\n",
      " |    |    |-- end_token: long (nullable = true)\n",
      " |    |    |-- start_token: long (nullable = true)\n",
      " |    |    |-- top_level: boolean (nullable = true)\n",
      " |-- question_text: string (nullable = true)\n",
      "\n"
     ]
    }
   ],
   "source": [
    "for_content.printSchema()"
   ]
  },
  {
   "cell_type": "markdown",
   "metadata": {},
   "source": [
    "## Les variables\n",
    "\n",
    "### Annotations\n",
    "\n",
    "Cette variable contient réponses **longues** et **courtes**, s'il existe des réponses. Ci-dessous les règles de cette variable:\n",
    "\n",
    "- Chaque question a une réponse longue au maximum. En revanche, il peut y avoir plusieurs réponses courtes.\n",
    "- Les réponses courtes sont nécessairement contenues dans la réponse longue. Si la réponse est de type **Oui/Non**, alors `yes_no_answer` prend les valeurs `Yes` ou `No`. Par défaut, la valeur de cette variable est `None`.\n",
    "- Seulement 1% des réponses sont de type **Oui/Non**.\n",
    "\n",
    "### Document text\n",
    "Cette variable contient le corps de la page Wikipedia en format *html*.\n",
    "\n",
    "### Document URL\n",
    "Cette variable contient le lien URL vers la page Wikipedia.\n",
    "\n",
    "### Example ID\n",
    "C'est l'identifiant de l'exemple.\n",
    "\n",
    "### Long answer candidates\n",
    "Cette variable contient les réponses candidates. \n",
    "\n",
    "- Parfois, une longue réponse est imbriquée dans une autre.\n",
    "- Pour différencier ces deux types de réponses, on utilise la notion de **niveau**. Une réponse est donc contenue dans une autre si son indicateur *top level* est `False`.\n",
    "- 95% des réponses longues sont du *top level* `True`. Nous pourrions donc, dans un premier temps, nous focaliser sur ces réponses uniquement.\n",
    "\n",
    "### Question text\n",
    "C'est la question posée."
   ]
  },
  {
   "cell_type": "code",
   "execution_count": 29,
   "metadata": {},
   "outputs": [
    {
     "data": {
      "text/plain": [
       "Column<b'annotations'>"
      ]
     },
     "execution_count": 29,
     "metadata": {},
     "output_type": "execute_result"
    }
   ],
   "source": [
    "for_content.annotations"
   ]
  },
  {
   "cell_type": "code",
   "execution_count": 22,
   "metadata": {},
   "outputs": [],
   "source": [
    "for_content_2 = spark.read.json(\"/Volumes/750GB-HDD/root/Question-Answering/pyData/tensorflow2-question-answering/v1.0-simplified_nq-dev-all-for-content.json\")"
   ]
  },
  {
   "cell_type": "code",
   "execution_count": 24,
   "metadata": {},
   "outputs": [
    {
     "name": "stdout",
     "output_type": "stream",
     "text": [
      "root\n",
      " |-- annotations: array (nullable = true)\n",
      " |    |-- element: struct (containsNull = true)\n",
      " |    |    |-- annotation_id: decimal(20,0) (nullable = true)\n",
      " |    |    |-- long_answer: struct (nullable = true)\n",
      " |    |    |    |-- candidate_index: long (nullable = true)\n",
      " |    |    |    |-- end_byte: long (nullable = true)\n",
      " |    |    |    |-- end_token: long (nullable = true)\n",
      " |    |    |    |-- start_byte: long (nullable = true)\n",
      " |    |    |    |-- start_token: long (nullable = true)\n",
      " |    |    |-- short_answers: array (nullable = true)\n",
      " |    |    |    |-- element: struct (containsNull = true)\n",
      " |    |    |    |    |-- end_byte: long (nullable = true)\n",
      " |    |    |    |    |-- end_token: long (nullable = true)\n",
      " |    |    |    |    |-- start_byte: long (nullable = true)\n",
      " |    |    |    |    |-- start_token: long (nullable = true)\n",
      " |    |    |-- yes_no_answer: string (nullable = true)\n",
      " |-- document_html: string (nullable = true)\n",
      " |-- document_title: string (nullable = true)\n",
      " |-- document_tokens: array (nullable = true)\n",
      " |    |-- element: struct (containsNull = true)\n",
      " |    |    |-- end_byte: long (nullable = true)\n",
      " |    |    |-- html_token: boolean (nullable = true)\n",
      " |    |    |-- start_byte: long (nullable = true)\n",
      " |    |    |-- token: string (nullable = true)\n",
      " |-- document_url: string (nullable = true)\n",
      " |-- example_id: long (nullable = true)\n",
      " |-- long_answer_candidates: array (nullable = true)\n",
      " |    |-- element: struct (containsNull = true)\n",
      " |    |    |-- end_byte: long (nullable = true)\n",
      " |    |    |-- end_token: long (nullable = true)\n",
      " |    |    |-- start_byte: long (nullable = true)\n",
      " |    |    |-- start_token: long (nullable = true)\n",
      " |    |    |-- top_level: boolean (nullable = true)\n",
      " |-- question_text: string (nullable = true)\n",
      " |-- question_tokens: array (nullable = true)\n",
      " |    |-- element: string (containsNull = true)\n",
      "\n"
     ]
    }
   ],
   "source": [
    "for_content_2.printSchema()"
   ]
  }
 ],
 "metadata": {
  "kernelspec": {
   "display_name": "Python 3",
   "language": "python",
   "name": "python3"
  },
  "language_info": {
   "codemirror_mode": {
    "name": "ipython",
    "version": 3
   },
   "file_extension": ".py",
   "mimetype": "text/x-python",
   "name": "python",
   "nbconvert_exporter": "python",
   "pygments_lexer": "ipython3",
   "version": "3.6.10"
  }
 },
 "nbformat": 4,
 "nbformat_minor": 4
}
