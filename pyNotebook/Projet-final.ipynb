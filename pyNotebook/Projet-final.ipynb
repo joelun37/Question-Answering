{
 "cells": [
  {
   "cell_type": "markdown",
   "metadata": {},
   "source": [
    "# Google Natural Questions"
   ]
  },
  {
   "cell_type": "markdown",
   "metadata": {},
   "source": [
    "**Projet final pour le CES Data Scientist**\n",
    "\n",
    "Elève: Joël Aytunç ÜN"
   ]
  },
  {
   "cell_type": "markdown",
   "metadata": {},
   "source": [
    "## Introduction\n",
    "\n",
    "Le but de ce challenge est de créer un modèle d'apprentissage statistique pour répondre aux questions posées en se servant d'un corps de texte (i.e. Wikipedia). Pour accéder au lien du *challenge*, veuillez cliquez [ici](https://ai.google.com/research/NaturalQuestions)."
   ]
  },
  {
   "cell_type": "markdown",
   "metadata": {},
   "source": [
    "## Présentation des données\n",
    "\n",
    "Dans cette partie nous présentons les données fournies. Le format des données d'apprentissage est `json`. En revanche Google a créé une version tabulée des données qui se trouve dans ce [lien](https://ai.google.com/research/NaturalQuestions/databrowser).\n",
    "\n",
    "Pour visualiser une observation de la base simplifiée, veuillez cliquez [ici](https://raw.githubusercontent.com/joelun37/Question-Answering/master/Documents/simplified-nq-train-for-content.json).\n",
    "\n",
    "Vous pouvez également visualiser une observation de la base initiale, en cliquant [ici] ()\n",
    "\n",
    "Nous utiliserons les données simplifiées par Google:\n",
    "\n",
    "- **simplified-nq-train.jsonl**: 17.45 Go\n",
    "- **simplified-nq-test.jsonl**: 18.8 Mo\n",
    "\n",
    "La base d'apprentissage étant assez volumineuse, nous utiliserons le Google Cloud Platform pour nos calculs.\n",
    "\n",
    "Ci-dessous, les nombres d'observations dans les bases fournies par Google:\n",
    "\n",
    "- **Base d'apprentissage:** 307 373 observations\n",
    "- **Base de validation (ou de développement):** 7 830 observations\n",
    "- **Base de test:** 7 842 observations"
   ]
  },
  {
   "cell_type": "code",
   "execution_count": 4,
   "metadata": {},
   "outputs": [
    {
     "data": {
      "text/html": [
       "\n",
       "            <div>\n",
       "                <p><b>SparkSession - in-memory</b></p>\n",
       "                \n",
       "        <div>\n",
       "            <p><b>SparkContext</b></p>\n",
       "\n",
       "            <p><a href=\"http://aytuncs-mbp-001:4040\">Spark UI</a></p>\n",
       "\n",
       "            <dl>\n",
       "              <dt>Version</dt>\n",
       "                <dd><code>v2.4.5</code></dd>\n",
       "              <dt>Master</dt>\n",
       "                <dd><code>local[*]</code></dd>\n",
       "              <dt>AppName</dt>\n",
       "                <dd><code>QA</code></dd>\n",
       "            </dl>\n",
       "        </div>\n",
       "        \n",
       "            </div>\n",
       "        "
      ],
      "text/plain": [
       "<pyspark.sql.session.SparkSession at 0x11800d668>"
      ]
     },
     "execution_count": 4,
     "metadata": {},
     "output_type": "execute_result"
    }
   ],
   "source": [
    "import findspark\n",
    "findspark.init()\n",
    "from pyspark.sql import SparkSession\n",
    "from pyspark import SparkConf\n",
    "from pyspark.sql import *\n",
    "from pyspark.sql.functions import *\n",
    "from pyspark.sql.types import *\n",
    "import time\n",
    "\n",
    "local = \"local[*]\"\n",
    "appName = \"QA\"\n",
    "configLocale = SparkConf().setAppName(appName).setMaster(local).\\\n",
    "set(\"spark.executor.memory\", \"6G\").\\\n",
    "set(\"spark.driver.memory\", \"6G\").\\\n",
    "set(\"spark.sql.catalogImplementation\", \"in-memory\")\n",
    "\n",
    "spark = SparkSession.builder.config(conf = configLocale).getOrCreate()\n",
    "sc = spark.sparkContext\n",
    "sc.setLogLevel(\"ERROR\")\n",
    "spark\n"
   ]
  },
  {
   "cell_type": "markdown",
   "metadata": {},
   "source": [
    "Afin d'inspecter le format du fichier `json`nous avons créé une version courte, que nous chargeons ici."
   ]
  },
  {
   "cell_type": "code",
   "execution_count": 20,
   "metadata": {},
   "outputs": [],
   "source": [
    "for_content = spark.read.json(\"/Volumes/750GB-HDD/root/Question-Answering/pyData/tensorflow2-question-answering/simplified-nq-train-for-content.json\")"
   ]
  },
  {
   "cell_type": "code",
   "execution_count": 18,
   "metadata": {},
   "outputs": [
    {
     "name": "stdout",
     "output_type": "stream",
     "text": [
      "root\n",
      " |-- annotations: array (nullable = true)\n",
      " |    |-- element: struct (containsNull = true)\n",
      " |    |    |-- annotation_id: long (nullable = true)\n",
      " |    |    |-- long_answer: struct (nullable = true)\n",
      " |    |    |    |-- candidate_index: long (nullable = true)\n",
      " |    |    |    |-- end_token: long (nullable = true)\n",
      " |    |    |    |-- start_token: long (nullable = true)\n",
      " |    |    |-- short_answers: array (nullable = true)\n",
      " |    |    |    |-- element: struct (containsNull = true)\n",
      " |    |    |    |    |-- end_token: long (nullable = true)\n",
      " |    |    |    |    |-- start_token: long (nullable = true)\n",
      " |    |    |-- yes_no_answer: string (nullable = true)\n",
      " |-- document_text: string (nullable = true)\n",
      " |-- document_url: string (nullable = true)\n",
      " |-- example_id: long (nullable = true)\n",
      " |-- long_answer_candidates: array (nullable = true)\n",
      " |    |-- element: struct (containsNull = true)\n",
      " |    |    |-- end_token: long (nullable = true)\n",
      " |    |    |-- start_token: long (nullable = true)\n",
      " |    |    |-- top_level: boolean (nullable = true)\n",
      " |-- question_text: string (nullable = true)\n",
      "\n"
     ]
    }
   ],
   "source": [
    "for_content.printSchema()"
   ]
  },
  {
   "cell_type": "markdown",
   "metadata": {},
   "source": [
    "## Les variables\n",
    "\n",
    "### Annotations\n",
    "\n",
    "Cette variable contient réponses **longues** et **courtes**, s'il existe des réponses. Ci-dessous les règles de cette variable:\n",
    "\n",
    "- Chaque question a une réponse longue au maximum. En revanche, il peut y avoir plusieurs réponses courtes.\n",
    "- Les réponses courtes sont nécessairement contenues dans la réponse longue. Si la réponse est de type **Oui/Non**, alors `yes_no_answer` prend les valeurs `Yes` ou `No`. Par défaut, la valeur de cette variable est `None`.\n",
    "- Seulement 1% des réponses sont de type **Oui/Non**.\n",
    "\n",
    "### Document text\n",
    "Cette variable contient le corps de la page Wikipedia en format *html*.\n",
    "\n",
    "### Document URL\n",
    "Cette variable contient le lien URL vers la page Wikipedia.\n",
    "\n",
    "### Example ID\n",
    "C'est l'identifiant de l'exemple.\n",
    "\n",
    "### Long answer candidates\n",
    "Cette variable contient les réponses candidates. \n",
    "\n",
    "- Parfois, une longue réponse est imbriquée dans une autre.\n",
    "- Pour différencier ces deux types de réponses, on utilise la notion de **niveau**. Une réponse est donc contenue dans une autre si son indicateur *top level* est `False`.\n",
    "- 95% des réponses longues sont du *top level* `True`. Nous pourrions donc, dans un premier temps, nous focaliser sur ces réponses uniquement.\n",
    "\n",
    "### Question text\n",
    "Il s'agit de la question posée au texte."
   ]
  },
  {
   "cell_type": "code",
   "execution_count": 29,
   "metadata": {},
   "outputs": [
    {
     "data": {
      "text/plain": [
       "Column<b'annotations'>"
      ]
     },
     "execution_count": 29,
     "metadata": {},
     "output_type": "execute_result"
    }
   ],
   "source": [
    "for_content.annotations"
   ]
  },
  {
   "cell_type": "code",
   "execution_count": 22,
   "metadata": {},
   "outputs": [],
   "source": [
    "for_content_2 = spark.read.json(\"/Volumes/750GB-HDD/root/Question-Answering/pyData/tensorflow2-question-answering/v1.0-simplified_nq-dev-all-for-content.json\")"
   ]
  },
  {
   "cell_type": "code",
   "execution_count": 24,
   "metadata": {},
   "outputs": [
    {
     "name": "stdout",
     "output_type": "stream",
     "text": [
      "root\n",
      " |-- annotations: array (nullable = true)\n",
      " |    |-- element: struct (containsNull = true)\n",
      " |    |    |-- annotation_id: decimal(20,0) (nullable = true)\n",
      " |    |    |-- long_answer: struct (nullable = true)\n",
      " |    |    |    |-- candidate_index: long (nullable = true)\n",
      " |    |    |    |-- end_byte: long (nullable = true)\n",
      " |    |    |    |-- end_token: long (nullable = true)\n",
      " |    |    |    |-- start_byte: long (nullable = true)\n",
      " |    |    |    |-- start_token: long (nullable = true)\n",
      " |    |    |-- short_answers: array (nullable = true)\n",
      " |    |    |    |-- element: struct (containsNull = true)\n",
      " |    |    |    |    |-- end_byte: long (nullable = true)\n",
      " |    |    |    |    |-- end_token: long (nullable = true)\n",
      " |    |    |    |    |-- start_byte: long (nullable = true)\n",
      " |    |    |    |    |-- start_token: long (nullable = true)\n",
      " |    |    |-- yes_no_answer: string (nullable = true)\n",
      " |-- document_html: string (nullable = true)\n",
      " |-- document_title: string (nullable = true)\n",
      " |-- document_tokens: array (nullable = true)\n",
      " |    |-- element: struct (containsNull = true)\n",
      " |    |    |-- end_byte: long (nullable = true)\n",
      " |    |    |-- html_token: boolean (nullable = true)\n",
      " |    |    |-- start_byte: long (nullable = true)\n",
      " |    |    |-- token: string (nullable = true)\n",
      " |-- document_url: string (nullable = true)\n",
      " |-- example_id: long (nullable = true)\n",
      " |-- long_answer_candidates: array (nullable = true)\n",
      " |    |-- element: struct (containsNull = true)\n",
      " |    |    |-- end_byte: long (nullable = true)\n",
      " |    |    |-- end_token: long (nullable = true)\n",
      " |    |    |-- start_byte: long (nullable = true)\n",
      " |    |    |-- start_token: long (nullable = true)\n",
      " |    |    |-- top_level: boolean (nullable = true)\n",
      " |-- question_text: string (nullable = true)\n",
      " |-- question_tokens: array (nullable = true)\n",
      " |    |-- element: string (containsNull = true)\n",
      "\n"
     ]
    }
   ],
   "source": [
    "for_content_2.printSchema()"
   ]
  },
  {
   "cell_type": "markdown",
   "metadata": {},
   "source": [
    "### BERT\n",
    "\n",
    "BERT est un modèle de langage par Google.\n",
    "\n",
    "#### Wordpieces: Le vocabulaire de BERT\n",
    "\n",
    "Explique un peu. Inspect BERT vocabulary ipynb.\n",
    "\n",
    "BERT a ete entraine sur Toronto Book Corpus et Wikipedia.\n",
    "\n",
    "Le vocabulaire de BERT contient 30,522 mots. Pour résoudre le problème des mots n'existant pas dans son vocabulaire, BERT crée des \"sous-mots\". Vous pouvez consulter le vocabulaire, en cliquant [ici](https://raw.githubusercontent.com/joelun37/Question-Answering/master/pyNotebook/vocabulary.txt)."
   ]
  },
  {
   "cell_type": "markdown",
   "metadata": {},
   "source": [
    "#### Nombre de paramètres de BERT\n",
    "\n",
    "- **Embedding layer:** 30 522 token de dimension 768, donc environ 24M de poids au total\n",
    "- **Transformers:** 12 transfomers, chacun ayant 7M poids donc environ 85M de poids\n",
    "\n",
    "Au total, le modèle prend environ 440 Mo d'espace."
   ]
  },
  {
   "cell_type": "code",
   "execution_count": 42,
   "metadata": {},
   "outputs": [],
   "source": [
    "with open(\"vocabulary.txt\", 'w') as f:\n",
    "    \n",
    "    # For each token...\n",
    "    for token in tokenizer.vocab.keys():\n",
    "        \n",
    "        # Write it out and escape any unicode characters.            \n",
    "        f.write(token + '\\n')"
   ]
  },
  {
   "cell_type": "code",
   "execution_count": 47,
   "metadata": {},
   "outputs": [
    {
     "name": "stdout",
     "output_type": "stream",
     "text": [
      "   30522 vocabulary.txt\n"
     ]
    }
   ],
   "source": [
    "!wc -l vocabulary.txt"
   ]
  },
  {
   "cell_type": "code",
   "execution_count": 46,
   "metadata": {},
   "outputs": [
    {
     "name": "stdout",
     "output_type": "stream",
     "text": [
      "[PAD]\n",
      "[unused0]\n",
      "[unused1]\n",
      "[unused2]\n",
      "[unused3]\n",
      "[unused4]\n",
      "[unused5]\n",
      "[unused6]\n",
      "[unused7]\n",
      "[unused8]\n"
     ]
    }
   ],
   "source": [
    "!head -10 vocabulary.txt"
   ]
  },
  {
   "cell_type": "code",
   "execution_count": 49,
   "metadata": {},
   "outputs": [
    {
     "name": "stdout",
     "output_type": "stream",
     "text": [
      "contributions\n",
      "wcw\n",
      "landscapes\n",
      "≈\n",
      "circle\n",
      "disposal\n",
      "chance\n",
      "elle\n",
      "1730\n",
      "##gui\n"
     ]
    }
   ],
   "source": [
    "!gshuf -n 10 vocabulary.txt"
   ]
  },
  {
   "cell_type": "markdown",
   "metadata": {},
   "source": [
    "### Première tentative de modélisation avec BERT\n",
    "\n",
    "Nous avons réalisé une première tentative de modélisation en utilisant `Huggingface`. Cet exemple n'a pas trouvé la bonne réponse. Il faudra améliorer le modèle. Notre objectif serait d'implémenter la méthode expliquée [ici](https://web.stanford.edu/class/archive/cs/cs224n/cs224n.1194/reports/custom/15791880.pdf) car il s'agit du même challenge."
   ]
  },
  {
   "cell_type": "code",
   "execution_count": 36,
   "metadata": {},
   "outputs": [
    {
     "name": "stdout",
     "output_type": "stream",
     "text": [
      "Question: which is the most common use of opt-in e-mail marketing\n",
      "\n",
      "Answer found by the model: [CLS]\n",
      "\n",
      "Long Answer:  A common example of permission marketing is a newsletter sent to an advertising firm 's customers . Such newsletters inform customers of upcoming events or promotions , or new products . In this type of advertising , a company that wants to send a newsletter to their customers may ask them at the point of purchase if they would like to receive the newsletter .  \n",
      "\n",
      "Short Answer: a newsletter sent to an advertising firm 's customers \n"
     ]
    }
   ],
   "source": [
    "# Libraries\n",
    "import re\n",
    "from transformers import AutoTokenizer, AutoModelForQuestionAnswering\n",
    "import torch\n",
    "import json\n",
    "\n",
    "# Mock test\n",
    "# We are going to get 2 long answer candidates with the real long answer\n",
    "# and feed it to the BERT model\n",
    "\n",
    "example_txt = \"/Volumes/750GB-HDD/root/Question-Answering/pyData/tensorflow2-question-answering/simplified-nq-train-for-content.json\"\n",
    "dev_example = \"/Volumes/750GB-HDD/root/Question-Answering/pyData/tensorflow2-question-answering/v1.0-simplified_nq-dev-all-for-content.json\"\n",
    "\n",
    "def raw_NQ_data_dict(input_text_file):\n",
    "\n",
    "    with open(input_text_file, 'r') as f:\n",
    "        for line in f:\n",
    "            example_dict = json.loads(line) \n",
    "            simplfied_ex =   (example_dict)\n",
    "\n",
    "    return simplfied_ex\n",
    "\n",
    "test_dict = raw_NQ_data_dict(input_text_file=example_txt)\n",
    "\n",
    "long_answer_candidates = test_dict[\"long_answer_candidates\"]\n",
    "document_text = test_dict[\"document_text\"]\n",
    "question_text = test_dict[\"question_text\"]\n",
    "\n",
    "# [{'yes_no_answer': 'NONE',\n",
    "#   'long_answer': {'start_token': 1952,\n",
    "#    'candidate_index': 54,\n",
    "#    'end_token': 2019},\n",
    "#   'short_answers': [{'start_token': 1960, 'end_token': 1969}],\n",
    "#   'annotation_id': 593165450220027640}]\n",
    "annotations = test_dict[\"annotations\"]\n",
    "\n",
    "long_answer = \"\"\n",
    "candidate_index = annotations[0][\"long_answer\"][\"candidate_index\"]\n",
    "\n",
    "for i in range(long_answer_candidates[candidate_index][\"start_token\"], \\\n",
    "               long_answer_candidates[candidate_index][\"end_token\"]):\n",
    "    long_answer += document_text.split()[i] + \" \"\n",
    "\n",
    "short_answer = \"\"\n",
    "for i in range(annotations[0][\"short_answers\"][0][\"start_token\"], \\\n",
    "               annotations[0][\"short_answers\"][0][\"end_token\"]):\n",
    "    short_answer += document_text.split()[i] + \" \"\n",
    "\n",
    "# First two candidates\n",
    "candidate_dict = {}\n",
    "\n",
    "i = 0\n",
    "while len(candidate_dict.keys()) < 2:\n",
    "    if long_answer_candidates[i][\"top_level\"] == True:\n",
    "        txt = \"\"\n",
    "        for j in range(long_answer_candidates[i][\"start_token\"], \\\n",
    "                       long_answer_candidates[i][\"end_token\"]):\n",
    "            txt += document_text.split()[j] + \" \"\n",
    "        candidate_dict[i] = txt\n",
    "    i += 1\n",
    "\n",
    "def remove_html_tags(text):\n",
    "    \"\"\"Remove html tags from a string\"\"\"\n",
    "    clean = re.compile('<.*?>')\n",
    "    return re.sub(clean, '', text)\n",
    "\n",
    "tokenizer = AutoTokenizer.from_pretrained(\"bert-large-uncased-whole-word-masking-finetuned-squad\")\n",
    "model = AutoModelForQuestionAnswering.from_pretrained(\"bert-large-uncased-whole-word-masking-finetuned-squad\")\n",
    "\n",
    "text = \"\"\n",
    "for key in candidate_dict.keys():\n",
    "    text += candidate_dict[key]\n",
    "\n",
    "text += text + long_answer    \n",
    "    \n",
    "inputs = tokenizer.encode_plus(question_text, remove_html_tags(text), add_special_tokens=True, return_tensors=\"pt\")\n",
    "input_ids = inputs[\"input_ids\"].tolist()[0]\n",
    "text_tokens = tokenizer.convert_ids_to_tokens(input_ids)\n",
    "answer_start_scores, answer_end_scores = model(**inputs)\n",
    "answer_start = torch.argmax(\n",
    "    answer_start_scores\n",
    ")  # Get the most likely beginning of answer with the argmax of the score\n",
    "answer_end = torch.argmax(answer_end_scores) + 1  # Get the most likely end of answer with the argmax of the score\n",
    "answer = tokenizer.convert_tokens_to_string(tokenizer.convert_ids_to_tokens(input_ids[answer_start:answer_end]))\n",
    "\n",
    "print(f\"Question: {question_text}\\n\")\n",
    "print(f\"Answer found by the model: {answer}\\n\")\n",
    "print(f\"Long Answer: {remove_html_tags(long_answer)}\\n\")\n",
    "print(f\"Short Answer: {short_answer}\")"
   ]
  },
  {
   "cell_type": "markdown",
   "metadata": {},
   "source": [
    "### Deuxieme tentative avec BERT"
   ]
  },
  {
   "cell_type": "code",
   "execution_count": 1,
   "metadata": {},
   "outputs": [],
   "source": [
    "# Libraries\n",
    "import autoreload\n",
    "%load_ext autoreload\n",
    "\n",
    "import re\n",
    "import json \n",
    "import torch\n",
    "import numpy as np\n",
    "import matplotlib.pyplot as plt \n",
    "from transformers import BertTokenizer\n",
    "from transformers import BertModel\n",
    "\n",
    "from sklearn.decomposition import PCA\n",
    "from sklearn.decomposition import TruncatedSVD\n",
    "\n",
    "from sklearn.model_selection import train_test_split\n",
    "from sklearn.linear_model import LinearRegression"
   ]
  },
  {
   "cell_type": "code",
   "execution_count": 2,
   "metadata": {},
   "outputs": [],
   "source": [
    "# Set parameters and paths\n",
    "pyData = \"/Volumes/750GB-HDD/root/Question-Answering/pyData/\"\n",
    "tokenizer = BertTokenizer.from_pretrained('bert-base-uncased')\n",
    "model = BertModel.from_pretrained('bert-base-uncased')"
   ]
  },
  {
   "cell_type": "code",
   "execution_count": 3,
   "metadata": {},
   "outputs": [],
   "source": [
    "# Import data\n",
    "nq_train_txt_short = pyData + \"tensorflow2-question-answering/simplified-nq-train-short.json\""
   ]
  },
  {
   "cell_type": "code",
   "execution_count": null,
   "metadata": {},
   "outputs": [],
   "source": [
    "def remove_html_tags(text):\n",
    "    \"\"\"Remove html tags from a string\"\"\"\n",
    "    clean = re.compile('<.*?>')\n",
    "    return re.sub(clean, '', text)"
   ]
  },
  {
   "cell_type": "code",
   "execution_count": 11,
   "metadata": {},
   "outputs": [],
   "source": [
    "def reduce_to_k_dim(M, k=2):\n",
    "        \n",
    "        n_iters = 10\n",
    "        M_reduced = None\n",
    "        print(f\"Running Truncated SVD over {M.shape[0]} records...\")\n",
    "\n",
    "        svd = TruncatedSVD(n_components=k, n_iter=n_iters, random_state=42)\n",
    "        svd.fit_transform(M)\n",
    "        print(f\"Explained variance ratios: {svd.explained_variance_ratio_}\")\n",
    "        M_reduced = svd.fit_transform(M)\n",
    "        print(\"Done.\")\n",
    "\n",
    "        return M_reduced\n",
    "\n",
    "def reduce_to_k_dim_PCA(M, k=2, title=None, path=None, file_name=None, kernel=None, plot_graph=True):\n",
    "        \n",
    "        M_reduced = None\n",
    "        print(f\"Running PCA over {M.shape[0]} records...\")\n",
    "        \n",
    "        if kernel is not None:\n",
    "                rbf_pca = KernelPCA(n_components=k,\n",
    "                                    kernel=\"rbf\",\n",
    "                                    gamma=0.04,\n",
    "                                    )\n",
    "                \n",
    "                M_reduced = rbf_pca.fit_transform(M)\n",
    "                cumsum = np.cumsum(rbf_pca.explained_variance_ratio_)\n",
    "        else:\n",
    "                pca = PCA(n_components=k, random_state=42)\n",
    "                M_reduced = pca.fit_transform(M)\n",
    "                cumsum = np.cumsum(pca.explained_variance_ratio_)\n",
    "\n",
    "#         print(f\"Cumsum:{cumsum}\")\n",
    "        d55 = np.argmax(cumsum >= 0.55) + 1\n",
    "        d70 = np.argmax(cumsum >= 0.70) + 1\n",
    "        d85 = np.argmax(cumsum >= 0.85) + 1\n",
    "        d90 = np.argmax(cumsum >= 0.90) + 1\n",
    "        print(f\"Initial number of dimensions:{M.shape[1]}\")\n",
    "        print(f\"Number of principal components explaining 55% of the variance: {d55}\")\n",
    "        print(f\"Number of principal components explaining 70% of the variance: {d70}\")\n",
    "        print(f\"Number of principal components explaining 85% of the variance: {d85}\")\n",
    "        print(f\"Number of principal components explaining 90% of the variance: {d90}\")\n",
    "#         print(f\"Explained variance ratios: {pca.explained_variance_ratio_}\")\n",
    "        print(\"Done.\")\n",
    "        if plot_graph is not False:\n",
    "                plt.figure(figsize=(8, 3.5))\n",
    "                plt.plot(range(1, k+1), cumsum, \"bo-\")\n",
    "                plt.xlabel(\"Dimensions\", fontsize=14)\n",
    "                plt.ylabel(\"Explained Variance Ratio\", fontsize=14)\n",
    "                # plt.annotate(\"Elbow\",\n",
    "                #         xy=(3, inertias[2]),\n",
    "                #         xytext=(0.55, 0.55),\n",
    "                #         textcoords=\"figure fraction\",\n",
    "                #         fontsize=16,\n",
    "                #         arrowprops=dict(facecolor=\"black\", shrink=0.1)\n",
    "                #         )\n",
    "                # plt.axis([1, (k + 0.5), 0, 1])\n",
    "                plt.xticks(range(1, k+1))\n",
    "                if title is not None:\n",
    "                        plt.title(title)\n",
    "                if (path is not None) and (file_name is not None):\n",
    "                        plt.savefig(path + file_name)\n",
    "                plt.show()\n",
    "\n",
    "        return M_reduced\n"
   ]
  },
  {
   "cell_type": "code",
   "execution_count": 4,
   "metadata": {},
   "outputs": [],
   "source": [
    "dict_obs = {}\n",
    "dict_obs[\"question\"] = []\n",
    "dict_obs[\"long_answer\"] = []\n",
    "dict_obs[\"transformed_question\"] = []\n",
    "dict_obs[\"start_transformed_long_answer\"] = []\n",
    "dict_obs[\"end_transformed_long_answer\"] = []"
   ]
  },
  {
   "cell_type": "markdown",
   "metadata": {},
   "source": [
    "Tentative faisant l'hypothèse qu'une réponse avec plus de 512 mots est trop longue."
   ]
  },
  {
   "cell_type": "code",
   "execution_count": 7,
   "metadata": {},
   "outputs": [
    {
     "name": "stdout",
     "output_type": "stream",
     "text": [
      "The number of reasonably long answers is 295\n"
     ]
    }
   ],
   "source": [
    "with open(nq_train_txt_short, 'r') as f:\n",
    "    counter = 0\n",
    "    for line in f:\n",
    "        obs = json.loads(line)\n",
    "        long_answer_candidate_index = obs[\"annotations\"][0][\"long_answer\"][\"candidate_index\"]\n",
    "        long_answer_candidate_index = obs[\"annotations\"][0][\"long_answer\"][\"candidate_index\"]\n",
    "        long_answer_start = obs[\"long_answer_candidates\"][long_answer_candidate_index][\"start_token\"]\n",
    "        long_answer_end = obs[\"long_answer_candidates\"][long_answer_candidate_index][\"end_token\"]\n",
    "        long_answer =\"\"\n",
    "        \n",
    "        for i in range(long_answer_start, long_answer_end):\n",
    "            long_answer += obs[\"document_text\"].split()[i] + \" \"\n",
    "        \n",
    "        if len(remove_html_tags(long_answer)) <= 512:\n",
    "            dict_obs[\"question\"].append(obs[\"question_text\"])\n",
    "            dict_obs[\"long_answer\"].append(remove_html_tags(long_answer))\n",
    "\n",
    "            question_inputs = tokenizer.encode_plus(obs[\"question_text\"], add_special_tokens=True, return_tensors=\"pt\")\n",
    "            question_input_ids = question_inputs[\"input_ids\"].tolist()[0]\n",
    "            question_text_tokens = tokenizer.convert_ids_to_tokens(question_input_ids)\n",
    "\n",
    "            long_answer_inputs = tokenizer.encode_plus(remove_html_tags(long_answer), add_special_tokens=True, return_tensors=\"pt\")\n",
    "            long_answer_input_ids = long_answer_inputs[\"input_ids\"].tolist()[0]\n",
    "            long_answer_text_tokens = tokenizer.convert_ids_to_tokens(long_answer_input_ids)\n",
    "\n",
    "            question_outputs = model(**question_inputs)\n",
    "            long_answer_outputs = model(**long_answer_inputs)\n",
    "\n",
    "           # Last hidden states\n",
    "            question_last_hidden_states = question_outputs[0].detach().numpy().reshape(len(question_text_tokens), 768)\n",
    "            long_answer_last_hidden_states = long_answer_outputs[0].detach().numpy().reshape(len(long_answer_text_tokens), 768)\n",
    "\n",
    "           # Transformed\n",
    "            transformed_question = question_last_hidden_states[0]\n",
    "            start_transformed_long_answer = long_answer_last_hidden_states[0]\n",
    "            end_transformed_long_answer = long_answer_last_hidden_states[len(long_answer_text_tokens) - 1]\n",
    "\n",
    "            # Append transformed texts\n",
    "            dict_obs[\"transformed_question\"].append(transformed_question)\n",
    "            dict_obs[\"start_transformed_long_answer\"].append(start_transformed_long_answer)\n",
    "            dict_obs[\"end_transformed_long_answer\"].append(end_transformed_long_answer)\n",
    "\n",
    "        # print(f\"\\n \\n Question text: {obs['question_text']} \\n  Length: {len(remove_html_tags(long_answer))} \\n Long answer: {remove_html_tags(long_answer)} \\n \\n \")\n",
    "\n",
    "        if len(remove_html_tags(long_answer)) <= 512:\n",
    "            counter += 1\n",
    "\n",
    "    print(f\"The number of reasonably long answers is {counter}\")"
   ]
  },
  {
   "cell_type": "code",
   "execution_count": 12,
   "metadata": {},
   "outputs": [
    {
     "name": "stdout",
     "output_type": "stream",
     "text": [
      "Running PCA over 295 records...\n",
      "Initial number of dimensions:768\n",
      "Number of principal components explaining 55% of the variance: 22\n",
      "Number of principal components explaining 70% of the variance: 44\n",
      "Number of principal components explaining 85% of the variance: 87\n",
      "Number of principal components explaining 90% of the variance: 114\n",
      "Done.\n"
     ]
    },
    {
     "data": {
      "image/png": "[encoded data removed]",
      "text/plain": [
       "<Figure size 576x252 with 1 Axes>"
      ]
     },
     "metadata": {
      "needs_background": "light"
     },
     "output_type": "display_data"
    }
   ],
   "source": [
    "# Create X\n",
    "X = dict_obs[\"transformed_question\"][0].reshape(1, -1)\n",
    "for q in range(1, len(dict_obs[\"transformed_question\"])):\n",
    "  X = np.vstack((X, dict_obs[\"transformed_question\"][q].reshape(1, -1)))\n",
    "\n",
    "# 44 axes explains 70%\n",
    "reduced_X = reduce_to_k_dim_PCA(X, k=295)"
   ]
  },
  {
   "cell_type": "code",
   "execution_count": 13,
   "metadata": {},
   "outputs": [
    {
     "name": "stdout",
     "output_type": "stream",
     "text": [
      "Running PCA over 295 records...\n",
      "Initial number of dimensions:768\n",
      "Number of principal components explaining 55% of the variance: 19\n",
      "Number of principal components explaining 70% of the variance: 41\n",
      "Number of principal components explaining 85% of the variance: 87\n",
      "Number of principal components explaining 90% of the variance: 115\n",
      "Done.\n"
     ]
    },
    {
     "data": {
      "image/png": "[encoded data removed]",
      "text/plain": [
       "<Figure size 576x252 with 1 Axes>"
      ]
     },
     "metadata": {
      "needs_background": "light"
     },
     "output_type": "display_data"
    }
   ],
   "source": [
    "# Create y1\n",
    "y1 = dict_obs[\"start_transformed_long_answer\"][0].reshape(1, -1)\n",
    "for q in range(1, len(dict_obs[\"start_transformed_long_answer\"])):\n",
    "  y1 = np.vstack((y1, dict_obs[\"start_transformed_long_answer\"][q].reshape(1, -1)))\n",
    "\n",
    "# 41 axes explain 70%\n",
    "reduced_y1 = reduce_to_k_dim_PCA(y1, k=295)"
   ]
  },
  {
   "cell_type": "code",
   "execution_count": 14,
   "metadata": {},
   "outputs": [
    {
     "name": "stdout",
     "output_type": "stream",
     "text": [
      "Running PCA over 295 records...\n",
      "Initial number of dimensions:768\n",
      "Number of principal components explaining 55% of the variance: 4\n",
      "Number of principal components explaining 70% of the variance: 16\n",
      "Number of principal components explaining 85% of the variance: 50\n",
      "Number of principal components explaining 90% of the variance: 73\n",
      "Done.\n"
     ]
    },
    {
     "data": {
      "image/png": "[encoded data removed]",
      "text/plain": [
       "<Figure size 576x252 with 1 Axes>"
      ]
     },
     "metadata": {
      "needs_background": "light"
     },
     "output_type": "display_data"
    }
   ],
   "source": [
    "# Create y2\n",
    "y2 = dict_obs[\"end_transformed_long_answer\"][0].reshape(1, -1)\n",
    "for q in range(1, len(dict_obs[\"end_transformed_long_answer\"])):\n",
    "  y2 = np.vstack((y2, dict_obs[\"end_transformed_long_answer\"][q].reshape(1, -1)))\n",
    "\n",
    "# 50 axes explain 85%\n",
    "reduced_y2 = reduce_to_k_dim_PCA(y2, k=295)"
   ]
  }
 ],
 "metadata": {
  "kernelspec": {
   "display_name": "Python 3",
   "language": "python",
   "name": "python3"
  },
  "language_info": {
   "codemirror_mode": {
    "name": "ipython",
    "version": 3
   },
   "file_extension": ".py",
   "mimetype": "text/x-python",
   "name": "python",
   "nbconvert_exporter": "python",
   "pygments_lexer": "ipython3",
   "version": "3.6.10"
  }
 },
 "nbformat": 4,
 "nbformat_minor": 4
}
