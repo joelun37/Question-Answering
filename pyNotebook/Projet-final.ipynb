{
 "cells": [
  {
   "cell_type": "markdown",
   "metadata": {},
   "source": [
    "# Google Natural Questions"
   ]
  },
  {
   "cell_type": "markdown",
   "metadata": {},
   "source": [
    "## Introduction\n",
    "\n",
    "Le but de ce challenge est de créer un modèle d'apprentissage statistique qui trouve des réponses posées à un corps de texte. "
   ]
  },
  {
   "cell_type": "markdown",
   "metadata": {},
   "source": [
    "## Présentation des données\n",
    "\n",
    "Dans cette partie nous présentons les données fournies. Pour voir une version tabulée des données, vous pouvez consulter ce [lien](https://ai.google.com/research/NaturalQuestions/databrowser).\n",
    "\n",
    "Nous utiliserons les données simplifiées par Google:\n",
    "\n",
    "- **simplified-nq-train.jsonl**: 17.45 Go\n",
    "- **simplified-nq-test.jsonl**: 18.8 Mo\n",
    "\n",
    "La base d'apprentissage étant assez volumineuse, nous utiliserons le Google Cloud Platform."
   ]
  },
  {
   "cell_type": "code",
   "execution_count": 4,
   "metadata": {},
   "outputs": [
    {
     "data": {
      "text/html": [
       "\n",
       "            <div>\n",
       "                <p><b>SparkSession - in-memory</b></p>\n",
       "                \n",
       "        <div>\n",
       "            <p><b>SparkContext</b></p>\n",
       "\n",
       "            <p><a href=\"http://aytuncs-mbp-001:4040\">Spark UI</a></p>\n",
       "\n",
       "            <dl>\n",
       "              <dt>Version</dt>\n",
       "                <dd><code>v2.4.5</code></dd>\n",
       "              <dt>Master</dt>\n",
       "                <dd><code>local[*]</code></dd>\n",
       "              <dt>AppName</dt>\n",
       "                <dd><code>QA</code></dd>\n",
       "            </dl>\n",
       "        </div>\n",
       "        \n",
       "            </div>\n",
       "        "
      ],
      "text/plain": [
       "<pyspark.sql.session.SparkSession at 0x11800d668>"
      ]
     },
     "execution_count": 4,
     "metadata": {},
     "output_type": "execute_result"
    }
   ],
   "source": [
    "import findspark\n",
    "findspark.init()\n",
    "from pyspark.sql import SparkSession\n",
    "from pyspark import SparkConf\n",
    "from pyspark.sql import *\n",
    "from pyspark.sql.functions import *\n",
    "from pyspark.sql.types import *\n",
    "import time\n",
    "\n",
    "local = \"local[*]\"\n",
    "appName = \"QA\"\n",
    "configLocale = SparkConf().setAppName(appName).setMaster(local).\\\n",
    "set(\"spark.executor.memory\", \"6G\").\\\n",
    "set(\"spark.driver.memory\", \"6G\").\\\n",
    "set(\"spark.sql.catalogImplementation\", \"in-memory\")\n",
    "\n",
    "spark = SparkSession.builder.config(conf = configLocale).getOrCreate()\n",
    "sc = spark.sparkContext\n",
    "sc.setLogLevel(\"ERROR\")\n",
    "spark"
   ]
  },
  {
   "cell_type": "markdown",
   "metadata": {},
   "source": [
    "Afin d'inspecter le format du fichier `json`nous avons créé une version courte, que nous chargeons ici."
   ]
  },
  {
   "cell_type": "code",
   "execution_count": 7,
   "metadata": {},
   "outputs": [
    {
     "name": "stdout",
     "output_type": "stream",
     "text": [
      "root\n",
      " |-- annotations: array (nullable = true)\n",
      " |    |-- element: struct (containsNull = true)\n",
      " |    |    |-- annotation_id: long (nullable = true)\n",
      " |    |    |-- long_answer: struct (nullable = true)\n",
      " |    |    |    |-- candidate_index: long (nullable = true)\n",
      " |    |    |    |-- end_token: long (nullable = true)\n",
      " |    |    |    |-- start_token: long (nullable = true)\n",
      " |    |    |-- short_answers: array (nullable = true)\n",
      " |    |    |    |-- element: struct (containsNull = true)\n",
      " |    |    |    |    |-- end_token: long (nullable = true)\n",
      " |    |    |    |    |-- start_token: long (nullable = true)\n",
      " |    |    |-- yes_no_answer: string (nullable = true)\n",
      " |-- document_text: string (nullable = true)\n",
      " |-- document_url: string (nullable = true)\n",
      " |-- example_id: long (nullable = true)\n",
      " |-- long_answer_candidates: array (nullable = true)\n",
      " |    |-- element: struct (containsNull = true)\n",
      " |    |    |-- end_token: long (nullable = true)\n",
      " |    |    |-- start_token: long (nullable = true)\n",
      " |    |    |-- top_level: boolean (nullable = true)\n",
      " |-- question_text: string (nullable = true)\n",
      "\n"
     ]
    }
   ],
   "source": [
    "for_content = spark.read.json(\"/Volumes/750GB-HDD/root/Question-Answering/pyData/tensorflow2-question-answering/simplified-nq-train-for-content.jsonl\")\n",
    "\n",
    "for_content.printSchema()"
   ]
  },
  {
   "cell_type": "code",
   "execution_count": 9,
   "metadata": {},
   "outputs": [
    {
     "name": "stdout",
     "output_type": "stream",
     "text": [
      "+--------------------+--------------------+--------------------+-------------------+----------------------+--------------------+\n",
      "|         annotations|       document_text|        document_url|         example_id|long_answer_candidates|       question_text|\n",
      "+--------------------+--------------------+--------------------+-------------------+----------------------+--------------------+\n",
      "|[[593165450220027...|Email marketing -...|https://en.wikipe...|5655493461695504401|  [[170, 14, true],...|which is the most...|\n",
      "+--------------------+--------------------+--------------------+-------------------+----------------------+--------------------+\n",
      "\n"
     ]
    }
   ],
   "source": [
    "for_content.show()"
   ]
  },
  {
   "cell_type": "markdown",
   "metadata": {},
   "source": []
  },
  {
   "cell_type": "code",
   "execution_count": null,
   "metadata": {},
   "outputs": [],
   "source": []
  }
 ],
 "metadata": {
  "kernelspec": {
   "display_name": "Python 3",
   "language": "python",
   "name": "python3"
  },
  "language_info": {
   "codemirror_mode": {
    "name": "ipython",
    "version": 3
   },
   "file_extension": ".py",
   "mimetype": "text/x-python",
   "name": "python",
   "nbconvert_exporter": "python",
   "pygments_lexer": "ipython3",
   "version": "3.6.10"
  }
 },
 "nbformat": 4,
 "nbformat_minor": 4
}
