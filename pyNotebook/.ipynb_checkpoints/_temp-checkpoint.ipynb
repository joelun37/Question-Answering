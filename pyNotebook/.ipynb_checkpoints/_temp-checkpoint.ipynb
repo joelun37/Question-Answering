{
 "cells": [
  {
   "cell_type": "markdown",
   "metadata": {},
   "source": [
    "### Word2vec\n",
    "\n",
    "#### Training a model by optimizing parameters\n",
    "\n",
    "We have a loss function with a probability model on the inside that we can build and so what we want to be able to do is then move our vector representations of words around so that they are good at predicting what words occur in the context of other words. That is, optimization.\n",
    "\n",
    "To train a model, we adjust parameters to minimize a loss, e.g.for a simple convex function over two parameters, contour lines show levels of objective function.\n",
    "\n",
    "#### Compute all vector gradients\n",
    "\n",
    "- Recall: $\\theta$ represents **all** model parameters in one long vector\n",
    "- In our case, with *d*-dimensional vectors and *V*-many words\n",
    "- Remember: every word has two vectors\n",
    "- We optimize these paraeters by walking down the gradient\n",
    "\n",
    "#### Concrete example\n",
    "\n",
    "The way we calculate the $u$ and $v$ vectors is we're literally going to start with a random vector for each word and then iteratively going to change those vectors a little bit as we learn. And the way we're going to work out how we change them is the following.\n",
    "\n",
    "We're going to say, \"I want to do optimization. Okay, we have the current vectors for each word. Let me do some calculus to work out how I could change the word vectors to mean that the word vectors would calculate a higher probability for the words that actually occur in the context of this center word.\" And we will do that again and again and again. \n",
    "\n",
    "Minimize $J(\\theta)$ by changing the parameters $\\theta$, where $\\theta$ are the the vectors $u$ and $v$.\n",
    "\n",
    " "
   ]
  }
 ],
 "metadata": {
  "kernelspec": {
   "display_name": "Python 3",
   "language": "python",
   "name": "python3"
  },
  "language_info": {
   "codemirror_mode": {
    "name": "ipython",
    "version": 3
   },
   "file_extension": ".py",
   "mimetype": "text/x-python",
   "name": "python",
   "nbconvert_exporter": "python",
   "pygments_lexer": "ipython3",
   "version": "3.6.5"
  }
 },
 "nbformat": 4,
 "nbformat_minor": 4
}