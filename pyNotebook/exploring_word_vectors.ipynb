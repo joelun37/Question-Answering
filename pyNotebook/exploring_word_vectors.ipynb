{
 "cells": [
  {
   "cell_type": "markdown",
   "metadata": {},
   "source": [
    "# CS224N Assignment 1: Exploring Word Vectors (25 Points)\n",
    "### <font color='blue'> Due 4:30pm, Tue Jan 14 </font>\n",
    "\n",
    "Welcome to CS224n! \n",
    "\n",
    "Before you start, make sure you read the README.txt in the same directory as this notebook. You will find many provided codes in the notebook. We highly encourage you to read and understand the provided codes as part of the learning :-)"
   ]
  },
  {
   "cell_type": "code",
   "execution_count": 2,
   "metadata": {},
   "outputs": [],
   "source": [
    "# All Import Statements Defined Here\n",
    "# Note: Do not add to this list.\n",
    "# ----------------\n",
    "\n",
    "import sys\n",
    "assert sys.version_info[0]==3\n",
    "assert sys.version_info[1] >= 5\n",
    "\n",
    "from gensim.models import KeyedVectors\n",
    "from gensim.test.utils import datapath\n",
    "import pprint\n",
    "import matplotlib.pyplot as plt\n",
    "plt.rcParams['figure.figsize'] = [10, 5]\n",
    "import nltk\n",
    "# nltk.download('reuters')\n",
    "from nltk.corpus import reuters\n",
    "import numpy as np\n",
    "import random\n",
    "import scipy as sp\n",
    "from sklearn.decomposition import TruncatedSVD\n",
    "from sklearn.decomposition import PCA\n",
    "\n",
    "START_TOKEN = '<START>'\n",
    "END_TOKEN = '<END>'\n",
    "\n",
    "np.random.seed(0)\n",
    "random.seed(0)\n",
    "# ----------------"
   ]
  },
  {
   "cell_type": "markdown",
   "metadata": {},
   "source": [
    "## Word Vectors\n",
    "\n",
    "Word Vectors are often used as a fundamental component for downstream NLP tasks, e.g. question answering, text generation, translation, etc., so it is important to build some intuitions as to their strengths and weaknesses. Here, you will explore two types of word vectors: those derived from *co-occurrence matrices*, and those derived via *GloVe*. \n",
    "\n",
    "**Assignment Notes:** Please make sure to save the notebook as you go along. Submission Instructions are located at the bottom of the notebook.\n",
    "\n",
    "**Note on Terminology:** The terms \"word vectors\" and \"word embeddings\" are often used interchangeably. The term \"embedding\" refers to the fact that we are encoding aspects of a word's meaning in a lower dimensional space. As [Wikipedia](https://en.wikipedia.org/wiki/Word_embedding) states, \"*conceptually it involves a mathematical embedding from a space with one dimension per word to a continuous vector space with a much lower dimension*\"."
   ]
  },
  {
   "cell_type": "markdown",
   "metadata": {},
   "source": [
    "## Part 1: Count-Based Word Vectors (10 points)\n",
    "\n",
    "Most word vector models start from the following idea:\n",
    "\n",
    "*You shall know a word by the company it keeps ([Firth, J. R. 1957:11](https://en.wikipedia.org/wiki/John_Rupert_Firth))*\n",
    "\n",
    "Many word vector implementations are driven by the idea that similar words, i.e., (near) synonyms, will be used in similar contexts. As a result, similar words will often be spoken or written along with a shared subset of words, i.e., contexts. By examining these contexts, we can try to develop embeddings for our words. With this intuition in mind, many \"old school\" approaches to constructing word vectors relied on word counts. Here we elaborate upon one of those strategies, *co-occurrence matrices* (for more information, see [here](http://web.stanford.edu/class/cs124/lec/vectorsemantics.video.pdf) or [here](https://medium.com/data-science-group-iitr/word-embedding-2d05d270b285))."
   ]
  },
  {
   "cell_type": "markdown",
   "metadata": {},
   "source": [
    "### Co-Occurrence\n",
    "\n",
    "A co-occurrence matrix counts how often things co-occur in some environment. Given some word $w_i$ occurring in the document, we consider the *context window* surrounding $w_i$. Supposing our fixed window size is $n$, then this is the $n$ preceding and $n$ subsequent words in that document, i.e. words $w_{i-n} \\dots w_{i-1}$ and $w_{i+1} \\dots w_{i+n}$. We build a *co-occurrence matrix* $M$, which is a symmetric word-by-word matrix in which $M_{ij}$ is the number of times $w_j$ appears inside $w_i$'s window among all documents.\n",
    "\n",
    "**Example: Co-Occurrence with Fixed Window of n=1**:\n",
    "\n",
    "Document 1: \"all that glitters is not gold\"\n",
    "\n",
    "Document 2: \"all is well that ends well\"\n",
    "\n",
    "\n",
    "|     *    | `<START>` | all | that | glitters | is   | not  | gold  | well | ends | `<END>` |\n",
    "|----------|-------|-----|------|----------|------|------|-------|------|------|-----|\n",
    "| `<START>`    | 0     | 2   | 0    | 0        | 0    | 0    | 0     | 0    | 0    | 0   |\n",
    "| all      | 2     | 0   | 1    | 0        | 1    | 0    | 0     | 0    | 0    | 0   |\n",
    "| that     | 0     | 1   | 0    | 1        | 0    | 0    | 0     | 1    | 1    | 0   |\n",
    "| glitters | 0     | 0   | 1    | 0        | 1    | 0    | 0     | 0    | 0    | 0   |\n",
    "| is       | 0     | 1   | 0    | 1        | 0    | 1    | 0     | 1    | 0    | 0   |\n",
    "| not      | 0     | 0   | 0    | 0        | 1    | 0    | 1     | 0    | 0    | 0   |\n",
    "| gold     | 0     | 0   | 0    | 0        | 0    | 1    | 0     | 0    | 0    | 1   |\n",
    "| well     | 0     | 0   | 1    | 0        | 1    | 0    | 0     | 0    | 1    | 1   |\n",
    "| ends     | 0     | 0   | 1    | 0        | 0    | 0    | 0     | 1    | 0    | 0   |\n",
    "| `<END>`      | 0     | 0   | 0    | 0        | 0    | 0    | 1     | 1    | 0    | 0   |\n",
    "\n",
    "**Note:** In NLP, we often add `<START>` and `<END>` tokens to represent the beginning and end of sentences, paragraphs or documents. In thise case we imagine `<START>` and `<END>` tokens encapsulating each document, e.g., \"`<START>` All that glitters is not gold `<END>`\", and include these tokens in our co-occurrence counts.\n",
    "\n",
    "The rows (or columns) of this matrix provide one type of word vectors (those based on word-word co-occurrence), but the vectors will be large in general (linear in the number of distinct words in a corpus). Thus, our next step is to run *dimensionality reduction*. In particular, we will run *SVD (Singular Value Decomposition)*, which is a kind of generalized *PCA (Principal Components Analysis)* to select the top $k$ principal components. Here's a visualization of dimensionality reduction with SVD. In this picture our co-occurrence matrix is $A$ with $n$ rows corresponding to $n$ words. We obtain a full matrix decomposition, with the singular values ordered in the diagonal $S$ matrix, and our new, shorter length-$k$ word vectors in $U_k$.\n",
    "\n",
    "![Picture of an SVD](./img/svd.png)\n",
    "\n",
    "This reduced-dimensionality co-occurrence representation preserves semantic relationships between words, e.g. *doctor* and *hospital* will be closer than *doctor* and *dog*. \n",
    "\n",
    "**Notes:** If you can barely remember what an eigenvalue is, here's [a slow, friendly introduction to SVD](https://davetang.org/file/Singular_Value_Decomposition_Tutorial.pdf). If you want to learn more thoroughly about PCA or SVD, feel free to check out lectures [7](https://web.stanford.edu/class/cs168/l/l7.pdf), [8](http://theory.stanford.edu/~tim/s15/l/l8.pdf), and [9](https://web.stanford.edu/class/cs168/l/l9.pdf) of CS168. These course notes provide a great high-level treatment of these general purpose algorithms. Though, for the purpose of this class, you only need to know how to extract the k-dimensional embeddings by utilizing pre-programmed implementations of these algorithms from the numpy, scipy, or sklearn python packages. In practice, it is challenging to apply full SVD to large corpora because of the memory needed to perform PCA or SVD. However, if you only want the top $k$ vector components for relatively small $k$ — known as [Truncated SVD](https://en.wikipedia.org/wiki/Singular_value_decomposition#Truncated_SVD) — then there are reasonably scalable techniques to compute those iteratively."
   ]
  },
  {
   "cell_type": "markdown",
   "metadata": {},
   "source": [
    "### Plotting Co-Occurrence Word Embeddings\n",
    "\n",
    "Here, we will be using the Reuters (business and financial news) corpus. If you haven't run the import cell at the top of this page, please run it now (click it and press SHIFT-RETURN). The corpus consists of 10,788 news documents totaling 1.3 million words. These documents span 90 categories and are split into train and test. For more details, please see https://www.nltk.org/book/ch02.html. We provide a `read_corpus` function below that pulls out only articles from the \"crude\" (i.e. news articles about oil, gas, etc.) category. The function also adds `<START>` and `<END>` tokens to each of the documents, and lowercases words. You do **not** have to perform any other kind of pre-processing."
   ]
  },
  {
   "cell_type": "code",
   "execution_count": 3,
   "metadata": {},
   "outputs": [],
   "source": [
    "def read_corpus(category=\"crude\"):\n",
    "    \"\"\" Read files from the specified Reuter's category.\n",
    "        Params:\n",
    "            category (string): category name\n",
    "        Return:\n",
    "            list of lists, with words from each of the processed files\n",
    "    \"\"\"\n",
    "    files = reuters.fileids(category)\n",
    "    return [[START_TOKEN] + [w.lower() for w in list(reuters.words(f))] + [END_TOKEN] for f in files]\n"
   ]
  },
  {
   "cell_type": "markdown",
   "metadata": {},
   "source": [
    "Let's have a look what these documents are like…."
   ]
  },
  {
   "cell_type": "code",
   "execution_count": 4,
   "metadata": {},
   "outputs": [
    {
     "name": "stdout",
     "output_type": "stream",
     "text": [
      "[['<START>', 'japan', 'to', 'revise', 'long', '-', 'term', 'energy', 'demand', 'downwards', 'the',\n",
      "  'ministry', 'of', 'international', 'trade', 'and', 'industry', '(', 'miti', ')', 'will', 'revise',\n",
      "  'its', 'long', '-', 'term', 'energy', 'supply', '/', 'demand', 'outlook', 'by', 'august', 'to',\n",
      "  'meet', 'a', 'forecast', 'downtrend', 'in', 'japanese', 'energy', 'demand', ',', 'ministry',\n",
      "  'officials', 'said', '.', 'miti', 'is', 'expected', 'to', 'lower', 'the', 'projection', 'for',\n",
      "  'primary', 'energy', 'supplies', 'in', 'the', 'year', '2000', 'to', '550', 'mln', 'kilolitres',\n",
      "  '(', 'kl', ')', 'from', '600', 'mln', ',', 'they', 'said', '.', 'the', 'decision', 'follows',\n",
      "  'the', 'emergence', 'of', 'structural', 'changes', 'in', 'japanese', 'industry', 'following',\n",
      "  'the', 'rise', 'in', 'the', 'value', 'of', 'the', 'yen', 'and', 'a', 'decline', 'in', 'domestic',\n",
      "  'electric', 'power', 'demand', '.', 'miti', 'is', 'planning', 'to', 'work', 'out', 'a', 'revised',\n",
      "  'energy', 'supply', '/', 'demand', 'outlook', 'through', 'deliberations', 'of', 'committee',\n",
      "  'meetings', 'of', 'the', 'agency', 'of', 'natural', 'resources', 'and', 'energy', ',', 'the',\n",
      "  'officials', 'said', '.', 'they', 'said', 'miti', 'will', 'also', 'review', 'the', 'breakdown',\n",
      "  'of', 'energy', 'supply', 'sources', ',', 'including', 'oil', ',', 'nuclear', ',', 'coal', 'and',\n",
      "  'natural', 'gas', '.', 'nuclear', 'energy', 'provided', 'the', 'bulk', 'of', 'japan', \"'\", 's',\n",
      "  'electric', 'power', 'in', 'the', 'fiscal', 'year', 'ended', 'march', '31', ',', 'supplying',\n",
      "  'an', 'estimated', '27', 'pct', 'on', 'a', 'kilowatt', '/', 'hour', 'basis', ',', 'followed',\n",
      "  'by', 'oil', '(', '23', 'pct', ')', 'and', 'liquefied', 'natural', 'gas', '(', '21', 'pct', '),',\n",
      "  'they', 'noted', '.', '<END>'],\n",
      " ['<START>', 'energy', '/', 'u', '.', 's', '.', 'petrochemical', 'industry', 'cheap', 'oil',\n",
      "  'feedstocks', ',', 'the', 'weakened', 'u', '.', 's', '.', 'dollar', 'and', 'a', 'plant',\n",
      "  'utilization', 'rate', 'approaching', '90', 'pct', 'will', 'propel', 'the', 'streamlined', 'u',\n",
      "  '.', 's', '.', 'petrochemical', 'industry', 'to', 'record', 'profits', 'this', 'year', ',',\n",
      "  'with', 'growth', 'expected', 'through', 'at', 'least', '1990', ',', 'major', 'company',\n",
      "  'executives', 'predicted', '.', 'this', 'bullish', 'outlook', 'for', 'chemical', 'manufacturing',\n",
      "  'and', 'an', 'industrywide', 'move', 'to', 'shed', 'unrelated', 'businesses', 'has', 'prompted',\n",
      "  'gaf', 'corp', '&', 'lt', ';', 'gaf', '>,', 'privately', '-', 'held', 'cain', 'chemical', 'inc',\n",
      "  ',', 'and', 'other', 'firms', 'to', 'aggressively', 'seek', 'acquisitions', 'of', 'petrochemical',\n",
      "  'plants', '.', 'oil', 'companies', 'such', 'as', 'ashland', 'oil', 'inc', '&', 'lt', ';', 'ash',\n",
      "  '>,', 'the', 'kentucky', '-', 'based', 'oil', 'refiner', 'and', 'marketer', ',', 'are', 'also',\n",
      "  'shopping', 'for', 'money', '-', 'making', 'petrochemical', 'businesses', 'to', 'buy', '.', '\"',\n",
      "  'i', 'see', 'us', 'poised', 'at', 'the', 'threshold', 'of', 'a', 'golden', 'period', ',\"', 'said',\n",
      "  'paul', 'oreffice', ',', 'chairman', 'of', 'giant', 'dow', 'chemical', 'co', '&', 'lt', ';',\n",
      "  'dow', '>,', 'adding', ',', '\"', 'there', \"'\", 's', 'no', 'major', 'plant', 'capacity', 'being',\n",
      "  'added', 'around', 'the', 'world', 'now', '.', 'the', 'whole', 'game', 'is', 'bringing', 'out',\n",
      "  'new', 'products', 'and', 'improving', 'the', 'old', 'ones', '.\"', 'analysts', 'say', 'the',\n",
      "  'chemical', 'industry', \"'\", 's', 'biggest', 'customers', ',', 'automobile', 'manufacturers',\n",
      "  'and', 'home', 'builders', 'that', 'use', 'a', 'lot', 'of', 'paints', 'and', 'plastics', ',',\n",
      "  'are', 'expected', 'to', 'buy', 'quantities', 'this', 'year', '.', 'u', '.', 's', '.',\n",
      "  'petrochemical', 'plants', 'are', 'currently', 'operating', 'at', 'about', '90', 'pct',\n",
      "  'capacity', ',', 'reflecting', 'tighter', 'supply', 'that', 'could', 'hike', 'product', 'prices',\n",
      "  'by', '30', 'to', '40', 'pct', 'this', 'year', ',', 'said', 'john', 'dosher', ',', 'managing',\n",
      "  'director', 'of', 'pace', 'consultants', 'inc', 'of', 'houston', '.', 'demand', 'for', 'some',\n",
      "  'products', 'such', 'as', 'styrene', 'could', 'push', 'profit', 'margins', 'up', 'by', 'as',\n",
      "  'much', 'as', '300', 'pct', ',', 'he', 'said', '.', 'oreffice', ',', 'speaking', 'at', 'a',\n",
      "  'meeting', 'of', 'chemical', 'engineers', 'in', 'houston', ',', 'said', 'dow', 'would', 'easily',\n",
      "  'top', 'the', '741', 'mln', 'dlrs', 'it', 'earned', 'last', 'year', 'and', 'predicted', 'it',\n",
      "  'would', 'have', 'the', 'best', 'year', 'in', 'its', 'history', '.', 'in', '1985', ',', 'when',\n",
      "  'oil', 'prices', 'were', 'still', 'above', '25', 'dlrs', 'a', 'barrel', 'and', 'chemical',\n",
      "  'exports', 'were', 'adversely', 'affected', 'by', 'the', 'strong', 'u', '.', 's', '.', 'dollar',\n",
      "  ',', 'dow', 'had', 'profits', 'of', '58', 'mln', 'dlrs', '.', '\"', 'i', 'believe', 'the',\n",
      "  'entire', 'chemical', 'industry', 'is', 'headed', 'for', 'a', 'record', 'year', 'or', 'close',\n",
      "  'to', 'it', ',\"', 'oreffice', 'said', '.', 'gaf', 'chairman', 'samuel', 'heyman', 'estimated',\n",
      "  'that', 'the', 'u', '.', 's', '.', 'chemical', 'industry', 'would', 'report', 'a', '20', 'pct',\n",
      "  'gain', 'in', 'profits', 'during', '1987', '.', 'last', 'year', ',', 'the', 'domestic',\n",
      "  'industry', 'earned', 'a', 'total', 'of', '13', 'billion', 'dlrs', ',', 'a', '54', 'pct', 'leap',\n",
      "  'from', '1985', '.', 'the', 'turn', 'in', 'the', 'fortunes', 'of', 'the', 'once', '-', 'sickly',\n",
      "  'chemical', 'industry', 'has', 'been', 'brought', 'about', 'by', 'a', 'combination', 'of', 'luck',\n",
      "  'and', 'planning', ',', 'said', 'pace', \"'\", 's', 'john', 'dosher', '.', 'dosher', 'said', 'last',\n",
      "  'year', \"'\", 's', 'fall', 'in', 'oil', 'prices', 'made', 'feedstocks', 'dramatically', 'cheaper',\n",
      "  'and', 'at', 'the', 'same', 'time', 'the', 'american', 'dollar', 'was', 'weakening', 'against',\n",
      "  'foreign', 'currencies', '.', 'that', 'helped', 'boost', 'u', '.', 's', '.', 'chemical',\n",
      "  'exports', '.', 'also', 'helping', 'to', 'bring', 'supply', 'and', 'demand', 'into', 'balance',\n",
      "  'has', 'been', 'the', 'gradual', 'market', 'absorption', 'of', 'the', 'extra', 'chemical',\n",
      "  'manufacturing', 'capacity', 'created', 'by', 'middle', 'eastern', 'oil', 'producers', 'in',\n",
      "  'the', 'early', '1980s', '.', 'finally', ',', 'virtually', 'all', 'major', 'u', '.', 's', '.',\n",
      "  'chemical', 'manufacturers', 'have', 'embarked', 'on', 'an', 'extensive', 'corporate',\n",
      "  'restructuring', 'program', 'to', 'mothball', 'inefficient', 'plants', ',', 'trim', 'the',\n",
      "  'payroll', 'and', 'eliminate', 'unrelated', 'businesses', '.', 'the', 'restructuring', 'touched',\n",
      "  'off', 'a', 'flurry', 'of', 'friendly', 'and', 'hostile', 'takeover', 'attempts', '.', 'gaf', ',',\n",
      "  'which', 'made', 'an', 'unsuccessful', 'attempt', 'in', '1985', 'to', 'acquire', 'union',\n",
      "  'carbide', 'corp', '&', 'lt', ';', 'uk', '>,', 'recently', 'offered', 'three', 'billion', 'dlrs',\n",
      "  'for', 'borg', 'warner', 'corp', '&', 'lt', ';', 'bor', '>,', 'a', 'chicago', 'manufacturer',\n",
      "  'of', 'plastics', 'and', 'chemicals', '.', 'another', 'industry', 'powerhouse', ',', 'w', '.',\n",
      "  'r', '.', 'grace', '&', 'lt', ';', 'gra', '>', 'has', 'divested', 'its', 'retailing', ',',\n",
      "  'restaurant', 'and', 'fertilizer', 'businesses', 'to', 'raise', 'cash', 'for', 'chemical',\n",
      "  'acquisitions', '.', 'but', 'some', 'experts', 'worry', 'that', 'the', 'chemical', 'industry',\n",
      "  'may', 'be', 'headed', 'for', 'trouble', 'if', 'companies', 'continue', 'turning', 'their',\n",
      "  'back', 'on', 'the', 'manufacturing', 'of', 'staple', 'petrochemical', 'commodities', ',', 'such',\n",
      "  'as', 'ethylene', ',', 'in', 'favor', 'of', 'more', 'profitable', 'specialty', 'chemicals',\n",
      "  'that', 'are', 'custom', '-', 'designed', 'for', 'a', 'small', 'group', 'of', 'buyers', '.', '\"',\n",
      "  'companies', 'like', 'dupont', '&', 'lt', ';', 'dd', '>', 'and', 'monsanto', 'co', '&', 'lt', ';',\n",
      "  'mtc', '>', 'spent', 'the', 'past', 'two', 'or', 'three', 'years', 'trying', 'to', 'get', 'out',\n",
      "  'of', 'the', 'commodity', 'chemical', 'business', 'in', 'reaction', 'to', 'how', 'badly', 'the',\n",
      "  'market', 'had', 'deteriorated', ',\"', 'dosher', 'said', '.', '\"', 'but', 'i', 'think', 'they',\n",
      "  'will', 'eventually', 'kill', 'the', 'margins', 'on', 'the', 'profitable', 'chemicals', 'in',\n",
      "  'the', 'niche', 'market', '.\"', 'some', 'top', 'chemical', 'executives', 'share', 'the',\n",
      "  'concern', '.', '\"', 'the', 'challenge', 'for', 'our', 'industry', 'is', 'to', 'keep', 'from',\n",
      "  'getting', 'carried', 'away', 'and', 'repeating', 'past', 'mistakes', ',\"', 'gaf', \"'\", 's',\n",
      "  'heyman', 'cautioned', '.', '\"', 'the', 'shift', 'from', 'commodity', 'chemicals', 'may', 'be',\n",
      "  'ill', '-', 'advised', '.', 'specialty', 'businesses', 'do', 'not', 'stay', 'special', 'long',\n",
      "  '.\"', 'houston', '-', 'based', 'cain', 'chemical', ',', 'created', 'this', 'month', 'by', 'the',\n",
      "  'sterling', 'investment', 'banking', 'group', ',', 'believes', 'it', 'can', 'generate', '700',\n",
      "  'mln', 'dlrs', 'in', 'annual', 'sales', 'by', 'bucking', 'the', 'industry', 'trend', '.',\n",
      "  'chairman', 'gordon', 'cain', ',', 'who', 'previously', 'led', 'a', 'leveraged', 'buyout', 'of',\n",
      "  'dupont', \"'\", 's', 'conoco', 'inc', \"'\", 's', 'chemical', 'business', ',', 'has', 'spent', '1',\n",
      "  '.', '1', 'billion', 'dlrs', 'since', 'january', 'to', 'buy', 'seven', 'petrochemical', 'plants',\n",
      "  'along', 'the', 'texas', 'gulf', 'coast', '.', 'the', 'plants', 'produce', 'only', 'basic',\n",
      "  'commodity', 'petrochemicals', 'that', 'are', 'the', 'building', 'blocks', 'of', 'specialty',\n",
      "  'products', '.', '\"', 'this', 'kind', 'of', 'commodity', 'chemical', 'business', 'will', 'never',\n",
      "  'be', 'a', 'glamorous', ',', 'high', '-', 'margin', 'business', ',\"', 'cain', 'said', ',',\n",
      "  'adding', 'that', 'demand', 'is', 'expected', 'to', 'grow', 'by', 'about', 'three', 'pct',\n",
      "  'annually', '.', 'garo', 'armen', ',', 'an', 'analyst', 'with', 'dean', 'witter', 'reynolds', ',',\n",
      "  'said', 'chemical', 'makers', 'have', 'also', 'benefitted', 'by', 'increasing', 'demand', 'for',\n",
      "  'plastics', 'as', 'prices', 'become', 'more', 'competitive', 'with', 'aluminum', ',', 'wood',\n",
      "  'and', 'steel', 'products', '.', 'armen', 'estimated', 'the', 'upturn', 'in', 'the', 'chemical',\n",
      "  'business', 'could', 'last', 'as', 'long', 'as', 'four', 'or', 'five', 'years', ',', 'provided',\n",
      "  'the', 'u', '.', 's', '.', 'economy', 'continues', 'its', 'modest', 'rate', 'of', 'growth', '.',\n",
      "  '<END>'],\n",
      " ['<START>', 'turkey', 'calls', 'for', 'dialogue', 'to', 'solve', 'dispute', 'turkey', 'said',\n",
      "  'today', 'its', 'disputes', 'with', 'greece', ',', 'including', 'rights', 'on', 'the',\n",
      "  'continental', 'shelf', 'in', 'the', 'aegean', 'sea', ',', 'should', 'be', 'solved', 'through',\n",
      "  'negotiations', '.', 'a', 'foreign', 'ministry', 'statement', 'said', 'the', 'latest', 'crisis',\n",
      "  'between', 'the', 'two', 'nato', 'members', 'stemmed', 'from', 'the', 'continental', 'shelf',\n",
      "  'dispute', 'and', 'an', 'agreement', 'on', 'this', 'issue', 'would', 'effect', 'the', 'security',\n",
      "  ',', 'economy', 'and', 'other', 'rights', 'of', 'both', 'countries', '.', '\"', 'as', 'the',\n",
      "  'issue', 'is', 'basicly', 'political', ',', 'a', 'solution', 'can', 'only', 'be', 'found', 'by',\n",
      "  'bilateral', 'negotiations', ',\"', 'the', 'statement', 'said', '.', 'greece', 'has', 'repeatedly',\n",
      "  'said', 'the', 'issue', 'was', 'legal', 'and', 'could', 'be', 'solved', 'at', 'the',\n",
      "  'international', 'court', 'of', 'justice', '.', 'the', 'two', 'countries', 'approached', 'armed',\n",
      "  'confrontation', 'last', 'month', 'after', 'greece', 'announced', 'it', 'planned', 'oil',\n",
      "  'exploration', 'work', 'in', 'the', 'aegean', 'and', 'turkey', 'said', 'it', 'would', 'also',\n",
      "  'search', 'for', 'oil', '.', 'a', 'face', '-', 'off', 'was', 'averted', 'when', 'turkey',\n",
      "  'confined', 'its', 'research', 'to', 'territorrial', 'waters', '.', '\"', 'the', 'latest',\n",
      "  'crises', 'created', 'an', 'historic', 'opportunity', 'to', 'solve', 'the', 'disputes', 'between',\n",
      "  'the', 'two', 'countries', ',\"', 'the', 'foreign', 'ministry', 'statement', 'said', '.', 'turkey',\n",
      "  \"'\", 's', 'ambassador', 'in', 'athens', ',', 'nazmi', 'akiman', ',', 'was', 'due', 'to', 'meet',\n",
      "  'prime', 'minister', 'andreas', 'papandreou', 'today', 'for', 'the', 'greek', 'reply', 'to', 'a',\n",
      "  'message', 'sent', 'last', 'week', 'by', 'turkish', 'prime', 'minister', 'turgut', 'ozal', '.',\n",
      "  'the', 'contents', 'of', 'the', 'message', 'were', 'not', 'disclosed', '.', '<END>']]\n"
     ]
    }
   ],
   "source": [
    "reuters_corpus = read_corpus()\n",
    "pprint.pprint(reuters_corpus[:3], compact=True, width=100)"
   ]
  },
  {
   "cell_type": "markdown",
   "metadata": {},
   "source": [
    "### Question 1.1: Implement `distinct_words` [code] (2 points)\n",
    "\n",
    "Write a method to work out the distinct words (word types) that occur in the corpus. You can do this with `for` loops, but it's more efficient to do it with Python list comprehensions. In particular, [this](https://coderwall.com/p/rcmaea/flatten-a-list-of-lists-in-one-line-in-python) may be useful to flatten a list of lists. If you're not familiar with Python list comprehensions in general, here's [more information](https://python-3-patterns-idioms-test.readthedocs.io/en/latest/Comprehensions.html).\n",
    "\n",
    "You may find it useful to use [Python sets](https://www.w3schools.com/python/python_sets.asp) to remove duplicate words."
   ]
  },
  {
   "cell_type": "code",
   "execution_count": 5,
   "metadata": {},
   "outputs": [],
   "source": [
    "def distinct_words(corpus):\n",
    "    \"\"\" Determine a list of distinct words for the corpus.\n",
    "        Params:\n",
    "            corpus (list of list of strings): corpus of documents\n",
    "        Return:\n",
    "            corpus_words (list of strings): list of distinct words across the corpus, sorted (using python 'sorted' function)\n",
    "            num_corpus_words (integer): number of distinct words across the corpus\n",
    "    \"\"\"\n",
    "    \n",
    "    # ------------------\n",
    "    # Write your implementation here.\n",
    "    corpus_words = sorted(list(set([y for x in corpus for y in x])))\n",
    "    num_corpus_words = len(corpus_words)\n",
    "    # ------------------\n",
    "\n",
    "    return corpus_words, num_corpus_words"
   ]
  },
  {
   "cell_type": "code",
   "execution_count": 6,
   "metadata": {},
   "outputs": [
    {
     "name": "stdout",
     "output_type": "stream",
     "text": [
      "--------------------------------------------------------------------------------\n",
      "Passed All Tests!\n",
      "--------------------------------------------------------------------------------\n"
     ]
    }
   ],
   "source": [
    "# ---------------------\n",
    "# Run this sanity check\n",
    "# Note that this not an exhaustive check for correctness.\n",
    "# ---------------------\n",
    "\n",
    "# Define toy corpus\n",
    "test_corpus = [\"{} All that glitters isn't gold {}\".format(START_TOKEN, END_TOKEN).split(\" \"), \"{} All's well that ends well {}\".format(START_TOKEN, END_TOKEN).split(\" \")]\n",
    "test_corpus_words, num_corpus_words = distinct_words(test_corpus)\n",
    "\n",
    "# Correct answers\n",
    "ans_test_corpus_words = sorted([START_TOKEN, \"All\", \"ends\", \"that\", \"gold\", \"All's\", \"glitters\", \"isn't\", \"well\", END_TOKEN])\n",
    "ans_num_corpus_words = len(ans_test_corpus_words)\n",
    "\n",
    "# Test correct number of words\n",
    "assert(num_corpus_words == ans_num_corpus_words), \"Incorrect number of distinct words. Correct: {}. Yours: {}\".format(ans_num_corpus_words, num_corpus_words)\n",
    "\n",
    "# Test correct words\n",
    "assert (test_corpus_words == ans_test_corpus_words), \"Incorrect corpus_words.\\nCorrect: {}\\nYours:   {}\".format(str(ans_test_corpus_words), str(test_corpus_words))\n",
    "\n",
    "# Print Success\n",
    "print (\"-\" * 80)\n",
    "print(\"Passed All Tests!\")\n",
    "print (\"-\" * 80)"
   ]
  },
  {
   "cell_type": "markdown",
   "metadata": {},
   "source": [
    "### Question 1.2: Implement `compute_co_occurrence_matrix` [code] (3 points)\n",
    "\n",
    "Write a method that constructs a co-occurrence matrix for a certain window-size $n$ (with a default of 4), considering words $n$ before and $n$ after the word in the center of the window. Here, we start to use `numpy (np)` to represent vectors, matrices, and tensors. If you're not familiar with NumPy, there's a NumPy tutorial in the second half of this cs231n [Python NumPy tutorial](http://cs231n.github.io/python-numpy-tutorial/).\n"
   ]
  },
  {
   "cell_type": "code",
   "execution_count": 81,
   "metadata": {},
   "outputs": [],
   "source": [
    "def compute_co_occurrence_matrix(corpus, window_size=4):\n",
    "    \"\"\" Compute co-occurrence matrix for the given corpus and window_size (default of 4).\n",
    "    \n",
    "        Note: Each word in a document should be at the center of a window. Words near edges will have a smaller\n",
    "              number of co-occurring words.\n",
    "              \n",
    "              For example, if we take the document \"<START> All that glitters is not gold <END>\" with window size of 4,\n",
    "              \"All\" will co-occur with \"<START>\", \"that\", \"glitters\", \"is\", and \"not\".\n",
    "    \n",
    "        Params:\n",
    "            corpus (list of list of strings): corpus of documents\n",
    "            window_size (int): size of context window\n",
    "        Return:\n",
    "            M (a symmetric numpy matrix of shape (number of unique words in the corpus , number of unique words in the corpus)): \n",
    "                Co-occurence matrix of word counts. \n",
    "                The ordering of the words in the rows/columns should be the same as the ordering of the words given by the distinct_words function.\n",
    "            word2Ind (dict): dictionary that maps word to index (i.e. row/column number) for matrix M.\n",
    "    \"\"\"\n",
    "    words, num_words = distinct_words(corpus)\n",
    "    M = None\n",
    "    word2Ind = {}\n",
    "    \n",
    "    # ------------------\n",
    "    # Write your implementation here.\n",
    "    word2Ind = dict(zip(words, range(num_words)))\n",
    "    \n",
    "    # Create an empty dictionary for each word\n",
    "    # We'll then use this dictionary to build the matrix M by counting each occurence\n",
    "    my_dict = {word: [] for word in words}\n",
    "    \n",
    "    # Temporary corpus list in order to keep the original corpus\n",
    "    tmp_corpus = np.array(corpus)\n",
    "    \n",
    "    # Looping over the corpus to populate my_dict\n",
    "    for sentence in tmp_corpus:\n",
    "    # We use i as an index of the word we're calculating the window of\n",
    "    # By definition it always starts at 0 then it is incremented inside the for-loop\n",
    "        for i, word in enumerate(sentence):\n",
    "            for window in range(window_size):\n",
    "                if ((i + window + 1) < len(sentence)):\n",
    "                    my_dict[word].append(sentence[i + window + 1])\n",
    "                if ((i - window -1) > -1):\n",
    "                    my_dict[word].append(sentence[i - window - 1])\n",
    " \n",
    "    # Initialize M with zeros\n",
    "    M = np.zeros((num_words, num_words))\n",
    "    \n",
    "    # Populate M\n",
    "    for word_dict in my_dict:\n",
    "        unique, counts = np.unique(my_dict[word_dict], return_counts=True)\n",
    "        i = word2Ind[word_dict]\n",
    "        for word in my_dict[word_dict]:\n",
    "            j = word2Ind[word]\n",
    "            value = counts[np.where(unique == word)]\n",
    "            M[i,j] = value\n",
    "        \n",
    "    # ------------------\n",
    "\n",
    "    return M, word2Ind"
   ]
  },
  {
   "cell_type": "code",
   "execution_count": 82,
   "metadata": {},
   "outputs": [
    {
     "name": "stdout",
     "output_type": "stream",
     "text": [
      "--------------------------------------------------------------------------------\n",
      "Passed All Tests!\n",
      "--------------------------------------------------------------------------------\n"
     ]
    }
   ],
   "source": [
    "# ---------------------\n",
    "# Run this sanity check\n",
    "# Note that this is not an exhaustive check for correctness.\n",
    "# ---------------------\n",
    "\n",
    "# Define toy corpus and get student's co-occurrence matrix\n",
    "test_corpus = [\"{} All that glitters isn't gold {}\".format(START_TOKEN, END_TOKEN).split(\" \"), \"{} All's well that ends well {}\".format(START_TOKEN, END_TOKEN).split(\" \")]\n",
    "M_test, word2Ind_test = compute_co_occurrence_matrix(test_corpus, window_size=1)\n",
    "\n",
    "# Correct M and word2Ind\n",
    "M_test_ans = np.array( \n",
    "    [[0., 0., 0., 0., 0., 0., 1., 0., 0., 1.,],\n",
    "     [0., 0., 1., 1., 0., 0., 0., 0., 0., 0.,],\n",
    "     [0., 1., 0., 0., 0., 0., 0., 0., 1., 0.,],\n",
    "     [0., 1., 0., 0., 0., 0., 0., 0., 0., 1.,],\n",
    "     [0., 0., 0., 0., 0., 0., 0., 0., 1., 1.,],\n",
    "     [0., 0., 0., 0., 0., 0., 0., 1., 1., 0.,],\n",
    "     [1., 0., 0., 0., 0., 0., 0., 1., 0., 0.,],\n",
    "     [0., 0., 0., 0., 0., 1., 1., 0., 0., 0.,],\n",
    "     [0., 0., 1., 0., 1., 1., 0., 0., 0., 1.,],\n",
    "     [1., 0., 0., 1., 1., 0., 0., 0., 1., 0.,]]\n",
    ")\n",
    "ans_test_corpus_words = sorted([START_TOKEN, \"All\", \"ends\", \"that\", \"gold\", \"All's\", \"glitters\", \"isn't\", \"well\", END_TOKEN])\n",
    "word2Ind_ans = dict(zip(ans_test_corpus_words, range(len(ans_test_corpus_words))))\n",
    "\n",
    "# Test correct word2Ind\n",
    "assert (word2Ind_ans == word2Ind_test), \"Your word2Ind is incorrect:\\nCorrect: {}\\nYours: {}\".format(word2Ind_ans, word2Ind_test)\n",
    "\n",
    "# Test correct M shape\n",
    "assert (M_test.shape == M_test_ans.shape), \"M matrix has incorrect shape.\\nCorrect: {}\\nYours: {}\".format(M_test.shape, M_test_ans.shape)\n",
    "\n",
    "# Test correct M values\n",
    "for w1 in word2Ind_ans.keys():\n",
    "    idx1 = word2Ind_ans[w1]\n",
    "    for w2 in word2Ind_ans.keys():\n",
    "        idx2 = word2Ind_ans[w2]\n",
    "        student = M_test[idx1, idx2]\n",
    "        correct = M_test_ans[idx1, idx2]\n",
    "        if student != correct:\n",
    "            print(\"Correct M:\")\n",
    "            print(M_test_ans)\n",
    "            print(\"Your M: \")\n",
    "            print(M_test)\n",
    "            raise AssertionError(\"Incorrect count at index ({}, {})=({}, {}) in matrix M. Yours has {} but should have {}.\".format(idx1, idx2, w1, w2, student, correct))\n",
    "\n",
    "# Print Success\n",
    "print (\"-\" * 80)\n",
    "print(\"Passed All Tests!\")\n",
    "print (\"-\" * 80)"
   ]
  },
  {
   "cell_type": "markdown",
   "metadata": {},
   "source": [
    "### Question 1.3: Implement `reduce_to_k_dim` [code] (1 point)\n",
    "\n",
    "Construct a method that performs dimensionality reduction on the matrix to produce k-dimensional embeddings. Use SVD to take the top k components and produce a new matrix of k-dimensional embeddings. \n",
    "\n",
    "**Note:** All of numpy, scipy, and scikit-learn (`sklearn`) provide *some* implementation of SVD, but only scipy and sklearn provide an implementation of Truncated SVD, and only sklearn provides an efficient randomized algorithm for calculating large-scale Truncated SVD. So please use [sklearn.decomposition.TruncatedSVD](https://scikit-learn.org/stable/modules/generated/sklearn.decomposition.TruncatedSVD.html)."
   ]
  },
  {
   "cell_type": "code",
   "execution_count": 19,
   "metadata": {},
   "outputs": [],
   "source": [
    "def reduce_to_k_dim(M, k=2):\n",
    "    \"\"\" Reduce a co-occurence count matrix of dimensionality (num_corpus_words, num_corpus_words)\n",
    "        to a matrix of dimensionality (num_corpus_words, k) using the following SVD function from Scikit-Learn:\n",
    "            - http://scikit-learn.org/stable/modules/generated/sklearn.decomposition.TruncatedSVD.html\n",
    "    \n",
    "        Params:\n",
    "            M (numpy matrix of shape (number of unique words in the corpus , number of unique words in the corpus)): co-occurence matrix of word counts\n",
    "            k (int): embedding size of each word after dimension reducation\n",
    "        Return:\n",
    "            M_reduced (numpy matrix of shape (number of corpus words, k)): matrix of k-dimensioal word embeddings.\n",
    "                    In terms of the SVD from math class, this actually returns U * S\n",
    "    \"\"\"    \n",
    "    n_iters = 10     # Use this parameter in your call to `TruncatedSVD`\n",
    "    M_reduced = None\n",
    "    print(\"Running Truncated SVD over %i words...\" % (M.shape[0]))\n",
    "    \n",
    "    # ------------------\n",
    "    # Write your implementation here.\n",
    "    svd = TruncatedSVD(n_components=k, n_iter=7, random_state=42)\n",
    "    M_reduced = svd.fit_transform(M)\n",
    "    # ------------------\n",
    "\n",
    "    print(\"Done.\")\n",
    "    return M_reduced"
   ]
  },
  {
   "cell_type": "code",
   "execution_count": 20,
   "metadata": {},
   "outputs": [],
   "source": [
    "test_corpus = [\"{} All that glitters isn't gold {}\".format(START_TOKEN, END_TOKEN).split(\" \"), \"{} All's well that ends well {}\".format(START_TOKEN, END_TOKEN).split(\" \")]\n"
   ]
  },
  {
   "cell_type": "code",
   "execution_count": 21,
   "metadata": {},
   "outputs": [
    {
     "data": {
      "text/plain": [
       "[['<START>', 'All', 'that', 'glitters', \"isn't\", 'gold', '<END>'],\n",
       " ['<START>', \"All's\", 'well', 'that', 'ends', 'well', '<END>']]"
      ]
     },
     "execution_count": 21,
     "metadata": {},
     "output_type": "execute_result"
    }
   ],
   "source": [
    "test_corpus"
   ]
  },
  {
   "cell_type": "code",
   "execution_count": 22,
   "metadata": {},
   "outputs": [
    {
     "name": "stdout",
     "output_type": "stream",
     "text": [
      "Running Truncated SVD over 10 words...\n",
      "Done.\n",
      "--------------------------------------------------------------------------------\n",
      "Passed All Tests!\n",
      "--------------------------------------------------------------------------------\n"
     ]
    }
   ],
   "source": [
    "# ---------------------\n",
    "# Run this sanity check\n",
    "# Note that this is not an exhaustive check for correctness \n",
    "# In fact we only check that your M_reduced has the right dimensions.\n",
    "# ---------------------\n",
    "\n",
    "# Define toy corpus and run student code\n",
    "test_corpus = [\"{} All that glitters isn't gold {}\".format(START_TOKEN, END_TOKEN).split(\" \"), \"{} All's well that ends well {}\".format(START_TOKEN, END_TOKEN).split(\" \")]\n",
    "M_test, word2Ind_test = compute_co_occurrence_matrix(test_corpus, window_size=1)\n",
    "M_test_reduced = reduce_to_k_dim(M_test, k=2)\n",
    "\n",
    "# Test proper dimensions\n",
    "assert (M_test_reduced.shape[0] == 10), \"M_reduced has {} rows; should have {}\".format(M_test_reduced.shape[0], 10)\n",
    "assert (M_test_reduced.shape[1] == 2), \"M_reduced has {} columns; should have {}\".format(M_test_reduced.shape[1], 2)\n",
    "\n",
    "# Print Success\n",
    "print (\"-\" * 80)\n",
    "print(\"Passed All Tests!\")\n",
    "print (\"-\" * 80)"
   ]
  },
  {
   "cell_type": "markdown",
   "metadata": {},
   "source": [
    "### Question 1.4: Implement `plot_embeddings` [code] (1 point)\n",
    "\n",
    "Here you will write a function to plot a set of 2D vectors in 2D space. For graphs, we will use Matplotlib (`plt`).\n",
    "\n",
    "For this example, you may find it useful to adapt [this code](https://www.pythonmembers.club/2018/05/08/matplotlib-scatter-plot-annotate-set-text-at-label-each-point/). In the future, a good way to make a plot is to look at [the Matplotlib gallery](https://matplotlib.org/gallery/index.html), find a plot that looks somewhat like what you want, and adapt the code they give."
   ]
  },
  {
   "cell_type": "code",
   "execution_count": 23,
   "metadata": {},
   "outputs": [
    {
     "data": {
      "text/plain": [
       "array([[ 6.54802087e-01, -7.83221122e-01],\n",
       "       [ 5.20200324e-01,  2.35373206e-15],\n",
       "       [ 7.05647176e-01,  4.84057274e-01],\n",
       "       [ 7.05647176e-01, -4.84057274e-01],\n",
       "       [ 1.02780472e+00, -1.87904559e-15],\n",
       "       [ 6.54802087e-01,  7.83221122e-01],\n",
       "       [ 3.82258491e-01,  6.56224003e-01],\n",
       "       [ 3.82258491e-01, -6.56224003e-01],\n",
       "       [ 1.39420808e+00, -1.06179274e+00],\n",
       "       [ 1.39420808e+00,  1.06179274e+00]])"
      ]
     },
     "execution_count": 23,
     "metadata": {},
     "output_type": "execute_result"
    }
   ],
   "source": [
    "M_test_reduced[0][0]"
   ]
  },
  {
   "cell_type": "code",
   "execution_count": 24,
   "metadata": {},
   "outputs": [
    {
     "data": {
      "text/plain": [
       "0.6548020870030277"
      ]
     },
     "execution_count": 24,
     "metadata": {},
     "output_type": "execute_result"
    }
   ],
   "source": [
    "M_test_reduced[0][0]"
   ]
  },
  {
   "cell_type": "code",
   "execution_count": 38,
   "metadata": {},
   "outputs": [],
   "source": [
    "def plot_embeddings(M_reduced, word2Ind, words):\n",
    "    \"\"\" Plot in a scatterplot the embeddings of the words specified in the list \"words\".\n",
    "        NOTE: do not plot all the words listed in M_reduced / word2Ind.\n",
    "        Include a label next to each point.\n",
    "        \n",
    "        Params:\n",
    "            M_reduced (numpy matrix of shape (number of unique words in the corpus , 2)): matrix of 2-dimensioal word embeddings\n",
    "            word2Ind (dict): dictionary that maps word to indices for matrix M\n",
    "            words (list of strings): words whose embeddings we want to visualize\n",
    "    \"\"\"\n",
    "\n",
    "    # ------------------\n",
    "    # Write your implementation here.\n",
    "    x_coords = [M_reduced[word2Ind[x]][0] for x in words]\n",
    "    y_coords = [M_reduced[word2Ind[x]][1] for x in words]\n",
    "    for i,type in enumerate(words):\n",
    "        x = x_coords[i]\n",
    "        y = y_coords[i]\n",
    "        plt.scatter(x, y, marker='x', color='red')\n",
    "        plt.text(x, y, type, fontsize=11)\n",
    "    plt.show()\n",
    "\n",
    "    # ------------------"
   ]
  },
  {
   "cell_type": "code",
   "execution_count": 39,
   "metadata": {},
   "outputs": [
    {
     "name": "stdout",
     "output_type": "stream",
     "text": [
      "--------------------------------------------------------------------------------\n",
      "Outputted Plot:\n"
     ]
    },
    {
     "data": {
      "image/png": "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\n",
      "text/plain": [
       "<Figure size 720x360 with 1 Axes>"
      ]
     },
     "metadata": {
      "needs_background": "light"
     },
     "output_type": "display_data"
    },
    {
     "name": "stdout",
     "output_type": "stream",
     "text": [
      "--------------------------------------------------------------------------------\n"
     ]
    }
   ],
   "source": [
    "# ---------------------\n",
    "# Run this sanity check\n",
    "# Note that this is not an exhaustive check for correctness.\n",
    "# The plot produced should look like the \"test solution plot\" depicted below. \n",
    "# ---------------------\n",
    "\n",
    "print (\"-\" * 80)\n",
    "print (\"Outputted Plot:\")\n",
    "\n",
    "M_reduced_plot_test = np.array([[1, 1], [-1, -1], [1, -1], [-1, 1], [0, 0]])\n",
    "word2Ind_plot_test = {'test1': 0, 'test2': 1, 'test3': 2, 'test4': 3, 'test5': 4}\n",
    "words = ['test1', 'test2', 'test3', 'test4', 'test5']\n",
    "plot_embeddings(M_reduced_plot_test, word2Ind_plot_test, words)\n",
    "\n",
    "print (\"-\" * 80)"
   ]
  },
  {
   "cell_type": "markdown",
   "metadata": {},
   "source": [
    "<font color=red>**Test Plot Solution**</font>\n",
    "<br>\n",
    "<img src="./img/test_plot.png" width=40% style="float: left;"> </img>\n"
   ]
  },
  {
   "cell_type": "markdown",
   "metadata": {},
   "source": [
    "### Question 1.5: Co-Occurrence Plot Analysis [written] (3 points)\n",
    "\n",
    "Now we will put together all the parts you have written! We will compute the co-occurrence matrix with fixed window of 4 (the default window size), over the Reuters \"crude\" (oil) corpus. Then we will use TruncatedSVD to compute 2-dimensional embeddings of each word. TruncatedSVD returns U\\*S, so we need to normalize the returned vectors, so that all the vectors will appear around the unit circle (therefore closeness is directional closeness). **Note**: The line of code below that does the normalizing uses the NumPy concept of *broadcasting*. If you don't know about broadcasting, check out\n",
    "[Computation on Arrays: Broadcasting by Jake VanderPlas](https://jakevdp.github.io/PythonDataScienceHandbook/02.05-computation-on-arrays-broadcasting.html).\n",
    "\n",
    "Run the below cell to produce the plot. It'll probably take a few seconds to run. What clusters together in 2-dimensional embedding space? What doesn't cluster together that you might think should have?  **Note:** \"bpd\" stands for \"barrels per day\" and is a commonly used abbreviation in crude oil topic articles."
   ]
  },
  {
   "cell_type": "code",
   "execution_count": 40,
   "metadata": {},
   "outputs": [
    {
     "name": "stdout",
     "output_type": "stream",
     "text": [
      "Running Truncated SVD over 8185 words...\n",
      "Done.\n"
     ]
    },
    {
     "data": {
      "image/png": "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\n",
      "text/plain": [
       "<Figure size 720x360 with 1 Axes>"
      ]
     },
     "metadata": {
      "needs_background": "light"
     },
     "output_type": "display_data"
    }
   ],
   "source": [
    "# -----------------------------\n",
    "# Run This Cell to Produce Your Plot\n",
    "# ------------------------------\n",
    "reuters_corpus = read_corpus()\n",
    "M_co_occurrence, word2Ind_co_occurrence = compute_co_occurrence_matrix(reuters_corpus)\n",
    "M_reduced_co_occurrence = reduce_to_k_dim(M_co_occurrence, k=2)\n",
    "\n",
    "# Rescale (normalize) the rows to make them each of unit-length\n",
    "M_lengths = np.linalg.norm(M_reduced_co_occurrence, axis=1)\n",
    "M_normalized = M_reduced_co_occurrence / M_lengths[:, np.newaxis] # broadcasting\n",
    "\n",
    "words = ['barrels', 'bpd', 'ecuador', 'energy', 'industry', 'kuwait', 'oil', 'output', 'petroleum', 'venezuela']\n",
    "\n",
    "plot_embeddings(M_normalized, word2Ind_co_occurrence, words)"
   ]
  },
  {
   "cell_type": "markdown",
   "metadata": {},
   "source": [
    "#### <font color=\"red\">Write your answer here.</font>\n"
   ]
  },
  {
   "cell_type": "markdown",
   "metadata": {},
   "source": [
    "- BPD should have been with barrels, but the program didn't recognize that.\n",
    "- Countries cluster together.\n",
    "- Oil, could have been closer to petroleum?"
   ]
  },
  {
   "cell_type": "markdown",
   "metadata": {},
   "source": [
    "## Part 2: Prediction-Based Word Vectors (15 points)\n",
    "\n",
    "As discussed in class, more recently prediction-based word vectors have demonstrated better performance, such as word2vec and GloVe (which also utilizes the benefit of counts). Here, we shall explore the embeddings produced by GloVe. Please revisit the class notes and lecture slides for more details on the word2vec and GloVe algorithms. If you're feeling adventurous, challenge yourself and try reading [GloVe's original paper](https://nlp.stanford.edu/pubs/glove.pdf).\n",
    "\n",
    "Then run the following cells to load the GloVe vectors into memory. **Note**: If this is your first time to run these cells, i.e. download the embedding model, it will take about 15 minutes to run. If you've run these cells before, rerunning them will load the model without redownloading it, which will take about 1 to 2 minutes."
   ]
  },
  {
   "cell_type": "code",
   "execution_count": 70,
   "metadata": {},
   "outputs": [],
   "source": [
    "def load_embedding_model():\n",
    "    \"\"\" Load GloVe Vectors\n",
    "        Return:\n",
    "            wv_from_bin: All 400000 embeddings, each lengh 200\n",
    "    \"\"\"\n",
    "    import gensim.downloader as api\n",
    "    wv_from_bin = api.load(\"glove-wiki-gigaword-200\")\n",
    "    print(\"Loaded vocab size %i\" % len(wv_from_bin.vocab.keys()))\n",
    "    return wv_from_bin"
   ]
  },
  {
   "cell_type": "markdown",
   "metadata": {},
   "source": [
    "### Alternative method for loading"
   ]
  },
  {
   "cell_type": "code",
   "execution_count": 86,
   "metadata": {},
   "outputs": [],
   "source": [
    "def load_embedding_model():\n",
    "    \"\"\" Load GloVe Vectors\n",
    "        Return:\n",
    "            wv_from_bin: All 400000 embeddings, each lengh 200\n",
    "    \"\"\"\n",
    "    from gensim.test.utils import datapath, get_tmpfile\n",
    "    from gensim.scripts.glove2word2vec import glove2word2vec\n",
    "    glove_file = datapath(\"C:/Users/jun090919/gensim-data/glove.6B.100d.txt\")\n",
    "    word2vec_glove_file = get_tmpfile(\"glove.6B.100d.word2vec.txt\")\n",
    "    wv_from_bin = KeyedVectors.load_word2vec_format(word2vec_glove_file)\n",
    "    print(\"Loaded vocab size %i\" % len(wv_from_bin.vocab.keys()))\n",
    "    \n",
    "    return wv_from_bin"
   ]
  },
  {
   "cell_type": "code",
   "execution_count": 87,
   "metadata": {},
   "outputs": [
    {
     "name": "stdout",
     "output_type": "stream",
     "text": [
      "Loaded vocab size 400000\n"
     ]
    }
   ],
   "source": [
    "# -----------------------------------\n",
    "# Run Cell to Load Word Vectors\n",
    "# Note: This will take several minutes\n",
    "# -----------------------------------\n",
    "wv_from_bin = load_embedding_model()"
   ]
  },
  {
   "cell_type": "markdown",
   "metadata": {},
   "source": [
    "#### Note: If you are receiving reset by peer error, rerun the cell to restart the download. "
   ]
  },
  {
   "cell_type": "markdown",
   "metadata": {},
   "source": [
    "### Reducing dimensionality of Word Embeddings\n",
    "Let's directly compare the GloVe embeddings to those of the co-occurrence matrix. In order to avoid running out of memory, we will work with a sample of 10000 GloVe vectors instead.\n",
    "Run the following cells to:\n",
    "\n",
    "1. Put 10000 Glove vectors into a matrix M\n",
    "2. Run reduce_to_k_dim (your Truncated SVD function) to reduce the vectors from 200-dimensional to 2-dimensional."
   ]
  },
  {
   "cell_type": "code",
   "execution_count": 88,
   "metadata": {},
   "outputs": [],
   "source": [
    "def get_matrix_of_vectors(wv_from_bin, required_words=['barrels', 'bpd', 'ecuador', 'energy', 'industry', 'kuwait', 'oil', 'output', 'petroleum', 'venezuela']):\n",
    "    \"\"\" Put the GloVe vectors into a matrix M.\n",
    "        Param:\n",
    "            wv_from_bin: KeyedVectors object; the 400000 GloVe vectors loaded from file\n",
    "        Return:\n",
    "            M: numpy matrix shape (num words, 200) containing the vectors\n",
    "            word2Ind: dictionary mapping each word to its row number in M\n",
    "    \"\"\"\n",
    "    import random\n",
    "    words = list(wv_from_bin.vocab.keys())\n",
    "    print(\"Shuffling words ...\")\n",
    "    random.seed(224)\n",
    "    random.shuffle(words)\n",
    "    words = words[:10000]\n",
    "    print(\"Putting %i words into word2Ind and matrix M...\" % len(words))\n",
    "    word2Ind = {}\n",
    "    M = []\n",
    "    curInd = 0\n",
    "    for w in words:\n",
    "        try:\n",
    "            M.append(wv_from_bin.word_vec(w))\n",
    "            word2Ind[w] = curInd\n",
    "            curInd += 1\n",
    "        except KeyError:\n",
    "            continue\n",
    "    for w in required_words:\n",
    "        if w in words:\n",
    "            continue\n",
    "        try:\n",
    "            M.append(wv_from_bin.word_vec(w))\n",
    "            word2Ind[w] = curInd\n",
    "            curInd += 1\n",
    "        except KeyError:\n",
    "            continue\n",
    "    M = np.stack(M)\n",
    "    print(\"Done.\")\n",
    "    return M, word2Ind"
   ]
  },
  {
   "cell_type": "code",
   "execution_count": 89,
   "metadata": {},
   "outputs": [
    {
     "name": "stdout",
     "output_type": "stream",
     "text": [
      "Shuffling words ...\n",
      "Putting 10000 words into word2Ind and matrix M...\n",
      "Done.\n",
      "Running Truncated SVD over 10010 words...\n",
      "Done.\n"
     ]
    }
   ],
   "source": [
    "# -----------------------------------------------------------------\n",
    "# Run Cell to Reduce 200-Dimensional Word Embeddings to k Dimensions\n",
    "# Note: This should be quick to run\n",
    "# -----------------------------------------------------------------\n",
    "M, word2Ind = get_matrix_of_vectors(wv_from_bin)\n",
    "M_reduced = reduce_to_k_dim(M, k=2)\n",
    "\n",
    "# Rescale (normalize) the rows to make them each of unit-length\n",
    "M_lengths = np.linalg.norm(M_reduced, axis=1)\n",
    "M_reduced_normalized = M_reduced / M_lengths[:, np.newaxis] # broadcasting"
   ]
  },
  {
   "cell_type": "markdown",
   "metadata": {},
   "source": [
    "**Note: If you are receiving out of memory issues on your local machine, try closing other applications to free more memory on your device. You may want to try restarting your machine so that you can free up extra memory. Then immediately run the jupyter notebook and see if you can load the word vectors properly. If you still have problems with loading the embeddings onto your local machine after this, please follow the Piazza instructions, as how to run remotely on Stanford Farmshare machines.**"
   ]
  },
  {
   "cell_type": "markdown",
   "metadata": {},
   "source": [
    "### Question 2.1: GloVe Plot Analysis [written] (4 points)\n",
    "\n",
    "Run the cell below to plot the 2D GloVe embeddings for `['barrels', 'bpd', 'ecuador', 'energy', 'industry', 'kuwait', 'oil', 'output', 'petroleum', 'venezuela']`.\n",
    "\n",
    "What clusters together in 2-dimensional embedding space? What doesn't cluster together that you might think should have? How is the plot different from the one generated earlier from the co-occurrence matrix? What is a possible reason for causing the difference?"
   ]
  },
  {
   "cell_type": "code",
   "execution_count": 93,
   "metadata": {},
   "outputs": [
    {
     "data": {
      "image/png": "iVBORw0KGgoAAAANSUhEUgAAAngAAAEvCAYAAADW9LzoAAAABHNCSVQICAgIfAhkiAAAAAlwSFlzAAALEgAACxIB0t1+/AAAADh0RVh0U29mdHdhcmUAbWF0cGxvdGxpYiB2ZXJzaW9uMy4xLjIsIGh0dHA6Ly9tYXRwbG90bGliLm9yZy8li6FKAAAgAElEQVR4nO3de3RX1Z3//+ebqxcUUERRa62WgiImYFAuXlBkBhQv7ULGSkWpHa+jFKfzbfvrRex01tiWNqa2OjLeq7R10GmpIloYtVoUgZoKgghWFJUqIEFQIIbs3x+fDzEJAYKBXA7Px1pZn885Z5+z99mN6Yu9zyVSSkiSJCk7WjV1AyRJkrRrGfAkSZIyxoAnSZKUMQY8SZKkjDHgSZIkZYwBT5IkKWPaNHUDtqdLly7pyCOPbOpmSJIk7dC8efNWpZQOaup2QDMPeEceeSRz585t6mZIkiTtUES80dRt2MIpWkmSpIwx4EmSJGWMAU+SJCljDHiSJEkZY8CTJEnaRSLi0oiY0tTtMOBJkiQ1oYjY5U81MeBJkqRMmj17NqeffjonnHACJ5xwAo8++igAjzzyCEVFRRQUFNCnTx9eeuklli1bRpcuXar2rb5cUVHBP/7jP1JUVESvXr0YO3Ys5eXlAJSXl3PFFVfQo0cPgC8AJ245RkS0joiJEbEg/zMxIlrnt90TEbdExHRg9q4+92b9HDxJkqR6SwkiACgrK+PKK69k2rRpdOvWjRUrVtCvXz8efvhhvva1r/HMM8/QvXt3Nm3aRHl5OatXr97mYVu3bs3kyZM58MADSSlxySWXcNddd3HllVdy++238/rrr7NgwQLatWu3lFzAW5bf9XKgEOibX34sv+62/PIA4LSU0oe7uisMeJIkqeWbMAHKyqC4GCKY9ec/8/rChQzv0wcOOQSAiOCxxx7jrLPOonv37gC0b9+e9u3bVwW8srIyJk2axKhRo6oOXVlZycSJE3nsscfYvHkza9asYZ999gHgySef5JJLLqFt27YAlcCrwKn5Xc8E7kkplefrvxv4Ip8EvCm7I9yBU7SSJKmlSykX7kpKYPx4SIk0aRLHl5dTeuGFlL74IqWlpSxfvpwDDzywzkO0adOGyspKysrK+PGPf8zGjRurtk2ePJlnn32WZ555hhdffJGrr766antKaXstC6B2gerL6z/N6dZH7KBhTaqoqCj5qjJJkrRDKeXCXUkJAGuAA4AxY8awZMkSVq9ezVe/+lW+9KUvccopp/CLX/yCX/7yl6xdu5aUEjfeeCOjR4/mhBNO4Nlnn6VLly6sXr2ajz/+mO7du9OqVSsOP/xw2rRpw9tvv03nzp0pKyvj/fffp6KighdffJHDDjvsL0BnoF1K6fCIuAq4BvgIaA18DihJKd0YEaXAqpTSmQARMQHokFL6Rv57T2B/ctf1zQNuAn4KfBZ4OKX0b9vrDkfwJElSyxeRm57N65z/fPrpp/nwww/5+OOP+d73vsd+++1HcXExY8aM4d133wXgpz/9KVdffTX/+Z//ydKlS4kIrrrqKjp27AjAwQcfzPvvv8+KFStIKdGrVy/mzZvHE088weuvv85hhx225SaL7sAr1Vq1ENgH2BdoDzwJ/EM9zuZI4Hzgy0APcmHvJmA4cDxwSUR0394BDHiSJKnl2zKCV8ufn3mGv/71r/ztb3/jtNNO44UXXqBjx460a9eOdu3aUVlZyfXXX09E0L9/f5599lk6duzIDTfcwKpVq4Dc9O0tt9zCwoULeeKJJzj55JO56KKL6NatG+3atWPq1Km0a9cOctffPQg8n6/+bKAd8DFQAXwe+Ex+2++A0u2c0QcppbUppc3AS8AfU0qb8tfsLQaO3l53GPAkSVLLVn16trAQNm+GceMAmFBYCDfcAOQeafKVr3yF9evX06FDhy2hjN69e7No0SKKior4xje+wfr16znjjDPo3r07Y8aMIaVEhw4d+OCDD/ja177GxIkTefjhhxk3bhybN29m1apVrF27FuBY4AfAuRFRDHQEDkgpFaaUCoHzyI3oQS7wHRURf46IecA/A92qnVUlVD0j7wzg2oh4OX+jRiU7uFHWgCdJklq2COjYMRfuSkvh+uvhZz8D4Dfvv0/FmjUsefVV5s6dy9lnn81f//pX1q5dy49+9CNKS0s59NBDufbaa0kp0bZtWz7++GOmTp3Kyy+/zLx581izZg0A119/PaeddhrTpk1jr7324s033+Suu+7if//3fxk5ciTkpmTvAMqBXwAzgfYRcXi+pa3IXYsHsA4YApwFDCZ3nd45dZzdZuBPwE+A4/L7d6ujXA0+JkWSJLV8N974yfeSkqqbLQ5p147ekydT+fjjHHLIIVx99dX867/+KwceeCDnnHMOmzdvprKysuoZd+3bt6eoqIh+/frRuXNn+vbty+zZuecQT506lRdeeIFWrVrRtm1bpk2bxrPPPsugQYO4/fbb+e1vf9sW+BfghZTSaxGxmVxwm5p/wPGWa/EgNwq3F/AusIlckGsVEQfXOrNWQC/gFOAKcpcX7nCAzhE8SZLU8qUEa9fmRvCq+X/l5RzbqRMPTZlCRHDKKaeQUuKuu+5i/fr1bNiwgU2bNvHOO+/QqlUuFl188cUsWrSIWbNm0bp1a6677jpGjBhBSonf/e53lJaW8sYbb7Bp0yZWrlzJ7373O/bee2/I3WRxdUrpjHz1FcDHKaW+KaUCYAS5wAe5gPfblNJeKaWOKaUDUkodUkrvAvcAb+XLXQSsBY5JKfUGbgWeSCk9sr3uMOBJkqSWLyI3LVtYWGP1eb168ae1a5n4059y6aWXAnDuuefys5/9jA0bNgCwbt06Fi1atMMqzj33XG666SY2b94MwKpVq3j99depqKjYMkW7OqU0pdoufwfaRsTn88sXVdv2BDAsInp9cgrRr45qO5F7nMq6iOhY6xjbZMCTJEktX0q5a++qjeAloOvLL3PewQfzq1/9ijFjxgDwrW99i4KCAvr168fxxx/PySefXK+Ad/PNN9O6dWsKCgro3bs3w4YN4+233+bPf/4zM2fOBDgwIkrzP/+WUqoAxgF/jIinyE3D5publgBfAe6MiL9GxCJyU7C13QfsFxEvA/8DPFOf7vBBx5IkKRtuuAGmTq05TVtYCOeeW/Mavd0kIuallIp2e0X14AieJElq+apfgzduHFRW5j5LS3Prm/GA1u6wSwJeRAyLiMURsTQivlXH9oiIn+e3vxQRfXdFvZIkSUDuGrxOnXKhrrj4kzdbjBuXWx/R1C1sVA1+TEr+tt9fAkPJ3fExJyKmppQWVis2nNydJd2Bk4Db8p+SJEm7xoQJuZG6LWFuS8jbw8Id7JoRvBOBpSmlv6WUyoHfkHtSc3XnAfelnOeBThGxw4f0SZIk7ZTaYW4PDHewawLeYcDyastv5dftbBkAIuLyiJgbEXNXrly5C5onSZK0Z9kVAa+uaFz7Ssb6lMmtTGlSSqkopVR00EEHNbhxkiRJe5pdEfDeAj5Tbflw4J1PUUaSJEm7wK4IeHOA7hHxuYhoB1wITK1VZiowJn83bX9gbUppxS6oW5IkSbU0+C7alFJFRPwL8DjQGrgrpfRyRFyZ3/5fwDTgLGApuXewjW1ovZIkSapbgwMeQEppGrkQV33df1X7noBrdkVdkiRJ2j7fZCFJkpQxBjxJkpQ5hYWFbNiwYaf3O/LII1mwYMGnrbZdRFz+aXfelQx4kiQpc0pLS9l7770bu9r2wDYDXkTskkvj6sOAJ0mSMiciWL9+PZAblfv+97/PgAEDOPLII/nFL35RVe6ZZ56hd+/enHjiiVx33XXkbhvY+hjVlz/66CMuuOACjj32WAoKChg1atSWIkcAx0ZEaURMye+zLCK+FxFPArdHxLSIGFntmF+KiCd29fk3WpKUJEnaraq/h3bLct5HH33Ec889x7JlyzjuuOO49NJLadu2LRdeeCEPPPAAgwcP5sEHH+SWW27ZYTWPP/44a9asYeHChQCsWbNmy6Y3gXUppaJau3RLKZ0OEBHDgG8CU/LbrgF+/inOdrscwZMkSS3fhAkwfnyNUMc3v5lbD1x44YVAbjSvc+fOvPXWWyxevJh99tmHwYMHAzBq1Cg6duy4w6oKCgp45ZVXuOaaa/if//kf2rdvv6Nd7qv2/XHgkIg4JiJ6AkcDj9TrHHeCAU+SJLVsKUFZGZSU1Ax5t92WWw/stddeVcVbt25NRUVFjenYurRu3ZrKykoANm7cWLX+qKOOYtGiRQwdOpQZM2ZQUFBQY3sdquZ584+O+yVwNbnRu9tTSpt34mzrxYAnSZJatggoLoZx43Ihr1U+3lx1VW79NvTs2ZMNGzbwpz/9CYApU6awdu3aqu1HH300c+bMAWDy5MlV69944w1at27N+eefT3FxMStXruT9998H2AzseAgQ7gXOB/4JuGNnTrW+vAZPkiS1fFtCXklJ1arh8+fzUVERK1as4Omnn6ZDhw4UFRVRUVHByJEjSSnx7W9/m2uuuYa9996bz372s7Rr165qqvaKK67giiuuYJ999mHVqlUAnH766Zx99tk8+OCDLF++nI8//pijjjqKK664AmBf4NWI+Bj4Q0rpS/mm3BIR/51SmgyQUloXEdOBvVNKK3dHdxjwJElSy5dSbnoWKAMKgQd79qTbpEms+Pvf6devH4MGDWL16tX84Q9/YMSIETzwwAPceuutzJ8/n9dee42vfOUrrFy5kv3335+XX36Z4cOH8+abb/LUU08xZMgQZs2axYABAwCYP38+F110Ed/97nd544036N27d74ZaWhE/AZ4LN+y04Dn+OSmii2PSxkEXLK7usMpWkmS1LKlBF//em70btw4Zj3yCK+3a8fwO+6gsGtXhg8fTkRQUVFBhw4dGDFiBAD9+/fntddeA3J3xr722muceuqpFBYWMnr0aCoqKnj33XcB6N69e1W4A3jyyScZO3YsAJ/97GcZMmRI9Rb9nNw1dgBXAXellMoBIuJc4DXgiZTSnN3VJY7gSZKklu3GG2H2bLjuOiguJj36KMd36cKfPvMZGDas6k7aZcuW1bjjdcvNFgApJYYNG8Z999231eEXLVpEhw4dtlof1R/JUk1KaVZEtI6ILaN0J1bbNhWY+ulPtn4cwZMkSS3XljtoZ8+uWjXwkUdY8s47PHnooXDDDQDMmTNnu3fN/sM//APTp0/n5Zdfrlq35QaLugwePJh77rkHgOXLl/N///d/tYvcAvwGeC6ltHwnz6rBHMGTJEkt15abKyA3Rfvzn9MZmPpP/8S//f3vfL2wkPLyco466qjtPsS4e/fu3H///Vx22WVs2LCB8vJyBg0aRL9+/eosX1JSwpgxY/jtb39Lz549GTRoEI899lj1x538htzjUG7dVae6M2JHz4BpSkVFRWnu3LlN3QxJktTcpfTJ41EAKitrvtViF9uwYQNt27alTZs2rFixgn79+vH2228vSCn1BoiIk4H/AnqnJghbTtFKkqSWrdodtFVqv9ViF1uyZAlFRUUUFBQwZMgQbshNBW8CiIg7gcnAvzRFuANH8CRJUku2Jdzl76CluHjr5d04klddRMyr4z20TcJr8CRJUssVAZ061QxzW67J69Sp0cJdc+MIniRJavlSqhnmai83guY0guc1eJIkqeWrHeb20JG7LQx4kiRJGWPAkyRJyhgDniRJUsYY8CRJkjLGgCdJkpQxBjxJktTiRATr169v1DoLCwvZsGEDADfffDPvvfdeo9a/Mwx4kiRJ9VBaWsree+8NGPAkSZJ2m8rKSsaPH8+Xv/xlNm3axODBg3nkkUeqtm9ZXrx4Mb169QKgoqKCjh078pOf/ASABx98kIsuugiAn/70p/Tr148+ffowYMAASktLq461ZdTwP/7jP3jnnXcYOXIkhYWFLFy4sBHPuH4MeJIkqUXauHEjo0aNonXr1kyePJn27dtvs2yPHj344IMPWLFiBXPmzKFXr17MnDkTgJkzZzJkyBAAxowZw5w5c3jxxRf593//d6688sqtjvWd73yHQw89lClTplBaWsqxxx67e06wAQx4kiSpZaj1etVhw4bRv39/Jk6cSNTjzRWnn346M2fOZMaMGVxxxRUsX76c8vJyZsyYwRlnnAHAvHnzOPXUUznuuOO4/vrra4zgtSQGPEmS1PxNmADjx9cIeaenxPRbb+XDDz+sWtemTRsqKyurljdu3Fj1fciQIcycObNqxK5///78+te/BuBzn/sc5eXljBw5kptvvpkFCxYwffp0Nm3atPvPbTcw4EmSpOYtJSgrg5KSGiHvhr/8haGHHsqwYcP44IMPADj66KOZM2cOAAsXLqwxAjdkyBAef/xx1qxZw+GHH86ZZ57JDTfcUDV6t3HjRioqKvjMZz4DwK233rrNJu2///6sXbt2t5zurmDAkyRJzVsEFBfDuHG5kNcqH1+uuopvPvMMF1xwAWeeeSbvv/8+3/zmN5k2bRpFRUVMnDiRPn36VB3m8MMPZ7/99uPkk08G4IwzzuDNN9+sCnj7778/P/jBD+jXrx+nnnoq++677zabdN111zF27Nhme5NFpFrz2c1JUVFRmjt3blM3Q5IkNQcpfRLuACorc+GvmYiIeSmloqZuBziCJ0mSWoKUctOz1dW6Jk+fMOBJkqTmbUu4KymBceOY+8ILjO7RA0pKWHbZZXTp0qWpW9jstGnqBkiSJG1XBHTqlLsGr7iYoggeWLRo6xE9VXEET5IkNVvTp0+nT58+HP/wwwyZP5+lr73GU089RVG/frkbL77+9aZuYrNkwJMkSc3Se++9x8UXX8wDDzzASy+9xEUXXcTo0aM/KdCMbrBobgx4kiSp+ah208Ts2bMpKCioehXY2LFjKS0tZd26dU3VuhbDgCdJkpqHWm+rSJWVxKuv5tZrpxjwJElS06vjbRUDHn2U0uXLeeVvf4OUuPfee+nTpw/77bdfU7e22fMuWkmS1PS2vK0CciGvpISDgF+ddx4XLVhARUEBBx10EPfffz9vvfVWkza1JWjQmywi4gDgt8CRwDJgVEppTa0ynwHuAw4BKoFJKaWS+hzfN1lIkrSHaeZvq9ieLL3J4lvAzJRSd2Bmfrm2CuBfU0rHAP2BayLi2AbWK0mSssa3VewyDQ145wH35r/fC5xfu0BKaUVK6S/57+uARcBhDaxXkiRlSa23VVBZmfusdk2e6q+h1+AdnFJaAbkgFxFdt1c4Io4E+gCzG1ivJEnKklpvq6hxTV6nTi1mmra52OE1eBExg9z1c7V9B7g3pdSpWtk1KaXO2zhOB+Bp4D9SSg9vp77LgcsBjjjiiBPeeOONHZ6EJEnKiJRqhrnay81Yc7oGb4cjeCmlM7e1LSLejYhu+dG7bsB72yjXFngIeGB74S5f3yRgEuRusthR+yRJUobUDnMtJNw1Nw29Bm8qcEn++yXA72sXiIgA7gQWpZR+1sD6JEmStAMNDXg3AUMjYgkwNL9MRBwaEdPyZQYBFwNnRERp/uesBtYrSZKkbWjQTRYppdXAkDrWvwOclf/+LOD4qiRJUiPxVWWSJEkZY8CTJEnKGAOeJElSxhjwJEmSMsaAJ0mSlDEGPEmSpIwx4EmSJGWMAU+SJCljDHiSJEkZY8CTJEnKGAOeJElSxhjwJEmSMsaAJ0mSlDEGPEmSpIwx4EmSJGWMAU+SJCljDHiSJEkZY8CTJEnKGAOeJElSxhjwJEmSMsaAJ0mSlDEGPEmSpIwx4EmSJGWMAU+SJCljDHiSJEkZY8CTJEnKGAOeJElSxhjwJEmSMsaAJ0mSlDEGPEmSpIwx4EmSJGWMAU+SJCljDHiSJEkZY8CTJEnKGAOeJElSxhjwJEmSMsaAJ0mSlDEGPEmSpIwx4EmSJGWMAU+SJCljDHiSJEkZY8CTJEnKGAOeJElSxjQo4EXEARHxx4hYkv/svJ2yrSPixYh4pCF1SpIkafsaOoL3LWBmSqk7MDO/vC3jgEUNrE+SJEk70NCAdx5wb/77vcD5dRWKiMOBs4E7GlifJEmSdqChAe/glNIKgPxn122Uuxn4f0BlA+uTJEnSDrTZUYGImAEcUsem79SngogYAbyXUpoXEYPrUf5y4HKAI444oj5VSJIkqZodBryU0pnb2hYR70ZEt5TSiojoBrxXR7FBwLkRcRawF7B/RNyfUvrKNuqbBEwCKCoqSvU5CUmSJH2ioVO0U4FL8t8vAX5fu0BK6dsppcNTSkcCFwL/t61wJ0mSpIZraMC7CRgaEUuAofllIuLQiJjW0MZJkiRp5+1winZ7UkqrgSF1rH8HOKuO9U8BTzWkTkmSJG2fb7KQJEnKGAOeJElSxhjwJEmSMsaAJ0mSlDEGPEmSpIwx4EmSJGWMAU+SJCljDHiSJEkZY8CTJGkXKS0t5cEHH2zwccrKyvjxj3+8C1qkPZUBT5KkXcSAp+bCgCdJ0jZMnz6dPn36cPzxxzNkyBCWLl3KPffcw8iRI6vKbFlevXo13//+95kxYwaFhYVcd911AEQEEyZMYODAgfTo0YOHHnoIgGXLltGlS5eq41RfvuaaaygrK6OwsJCBAwc24hkrKxr0LlpJkjInJYjgvffe4+KLL+bpp57i2F69uPPOOxk9ejRXXXVVnbsdeOCB/OAHP+CRRx5hypQpNba1atWKWbNmsXjxYgYOHMgpp5yy3Sb88pe/pKioiNLS0l12WtqzOIInSdIWEybA+PGQErNnz6agoIBj//u/YcIExo4dS2lpKevWrdvpw1522WUA9OjRg759+/L888/v4oZLNRnwJEmC3MhdWRmUlMD48aTKSuLVV3PLZWW57UCnTp2orKys2m3jxo07WU0iImjTpk2DjiNtjwFPkiSACCguhnHjoKSEAeefT+ny5bxy8cVQXMy9991Hnz59+PznP89LL73Epk2bKC8vrzEdu//++7N27dqtDn333XcDsGTJEkpLSznppJM45JBD+Pjjj1m6dCkAkydPrnGcjz76iIqKit180soqA54kSVtsCXnAQcCvgIsWLOD4ggLuv/9+7r//fgYMGMCZZ57Jcccdx4gRIzjmmGOqdh8yZAgffvghBQUFVTdZALRv355BgwYxYsQIbr/9drp27UqbNm0oKSlh6NChDB48mNatW1eVP+CAAxg9ejS9e/f2Jgt9KpHyQ87NUVFRUZo7d25TN0OStKdIKXcNXknJJ+vGjcuFvohPdciIYN26dXTo0GEXNVLNVUTMSykVNXU7wBE8SZJyqoe7ceOgsrJqunbLjRdSS+FjUiRJgtwIXadONUfs8tO1dOr0qUfwmvNMmbLLKVpJkqrLPwdvm8vSNjhFK0lSc1U7zBnu1AIZ8CRJkjLGgCdJkpQxBjxJkqSMMeBJkiRljAFPkiQpYwx4kiRJGWPAkyRJyhgDniRJUsYY8CRJkjLGgCdJkpQxBjxJkqSMMeBJkiRljAFPkiQpYwx4kiRJGWPAkyRJyhgDniRJUsYY8CRJkjLGgCdJkpQxBjxJkqSMMeBJ0h4mIli/fn2j1rls2TK6dOnSqHVKezIDniRpp23evLnGckVFRRO1RFJdDHiStAeaOHEiAwcOpEePHjz00ENV60ePHk1RURG9e/fmi1/8ImvWrAHgqaeeorCwkGuvvZb+/fvz2GOPcemll3LttdcybNgwTjrpJABmz57N6aefzgknnMAJJ5zAo48+ulXdH330ERdccAHHHnssBQUFjBo1qnFOWtqDtGnqBkiSGl+rVq2YNWsWixcvZuDAgZxyyil07dqVkpKSqqnU7373u/zoRz/ipptuAmD+/Pncdttt3HLLLQBMmTKF5557jqeffpp9992XsrIyrrzySqZNm0a3bt1YsWIF/fr1Y8GCBTXqfvzxx1mzZg0LFy4EqAqRknadBgW8iDgA+C1wJLAMGJVS2uq/1IjoBNwBHAck4KsppecaUrckaSekBBFVi5d99asA9OjRg759+/L8889z7rnnct999/HAAw9QXl7Ohx9+yBe+8IWqfbp3786AAQNqHHbkyJHsu+++AMyaNYvXX3+d4cOHV22PCJYuXVrj+ruCggJeeeUVrrnmGgYPHszZZ5+9W05Z2pM1dIr2W8DMlFJ3YGZ+uS4lwPSUUk+gAFjUwHolSfU1YQKMH58LedXXTZgAQEqJiOCZZ57htttuY/r06cyfP58f/vCHbNy4sWqXDh06bHXo6utSShx//PGUlpZW/SxfvpyioqIa+xx11FEsWrSIoUOHMmPGDAoKCmrUI6nhGhrwzgPuzX+/Fzi/doGI2B84FbgTIKVUnlIqa2C9kqT6SAnKyqCkpEbIu/vOO6GsjCWvvkppaSknnXQSZWVldOzYkQMPPJBNmzZx11137VRVAwcOZMmSJTz55JNV6+bMmUOqHiyBt956i9atW3P++edTXFzMypUref/99xt+rpKqNDTgHZxSWgGQ/+xaR5mjgJXA3RHxYkTcERH7NrBeSVJ9REBxMYwblwt5rXJ/9tuffDKD5sxhxDnncPvtt9O1a1eGDx/O0UcfTc+ePRk+fDh9+/bdqao6d+7M1KlTufHGGykoKOCYY45hwoQJWwW8+fPnM2DAAAoKCjjxxBP59re/zaGHHrrLTlkSRO3/8LYqEDEDOKSOTd8B7k0pdapWdk1KqXOt/YuA54FBKaXZEVECfJBS+t426rscuBzgiCOOOOGNN97YmfORJNUlpapwB0BlZY1r8iQ1XETMSykV7bjk7rfDEbyU0pkppePq+Pk98G5EdAPIf75XxyHeAt5KKc3OL08BtvnPwpTSpJRSUUqp6KCDDtr5M5Ik1ZRSbnq2utrX5EnKlIZO0U4FLsl/vwT4fe0CKaW/A8sjokd+1RBgYQPrlSTVx5ZwV1KSm6atrPxkutaQJ2VWQ5+DdxPwYERcBrwJXAAQEYcCd6SUzsqXuxZ4ICLaAX8DxjawXklSfURAp065UFdc/Mk1eZBb7zStlEk7vAavKRUVFaW5c+c2dTMkqeWr9Ry8rZYlNViLugZPkpQBtcOc4U7KNAOeJElSxhjwJEmSMsaAJ0mSlDEGPEmSpIwx4EmSJGWMAU+SJCljDHiSJEkZY31FijYAAAkWSURBVMCTJEnKGAOeJElSxhjwJEmSMsaAJ0mSlDEGPEmSpIwx4EmSJGWMAU+SJCljDHiSJEkZY8CTJEnKGAOeJElSxhjwJEmSMsaAJ0mSlDEGPEmSpIwx4EmSJGWMAU+SJCljDHiSJEkZY8CTJEnKGAOeJElSxhjwJEmSMsaAJ0mSlDEGPEmSpIwx4EmSJGWMAU+SJCljDHiSJEkZY8CTJEnKGAOeJElSxhjwJEmSMsaAJ0mSlDEGPEmSpIwx4EmSJGWMAU+SJCljDHiSJEkZY8CTJEnKGAOeJElSxhjwJEmSMqZBAS8iDoiIP0bEkvxn522UGx8RL0fEgoj4dUTs1ZB6JUmStG0NHcH7FjAzpdQdmJlfriEiDgOuA4pSSscBrYELG1ivJEmStqGhAe884N7893uB87dRrg2wd0S0AfYB3mlgvZIkSdqGhga8g1NKKwDyn11rF0gpvQ1MBN4EVgBrU0pPNLBeSZIkbcMOA15EzMhfO1f757z6VJC/Lu884HPAocC+EfGV7ZS/PCLmRsTclStX1vc8JEmSlNdmRwVSSmdua1tEvBsR3VJKKyKiG/BeHcXOBF5PKa3M7/MwMBC4fxv1TQImARQVFaUdn4IkSZKqa+gU7VTgkvz3S4Df11HmTaB/ROwTEQEMARY1sF5JkiRtQ0MD3k3A0IhYAgzNLxMRh0bENICU0mxgCvAXYH6+zkkNrFeSJEnbECk131nQoqKiNHfu3KZuhiRJ0g5FxLyUUlFTtwN8k4UkSVLmGPAkSZIyxoAnSZKUMQY8SZKkjDHgSZIkZYwBT5IkKWMMeJIkSRljwJMkScoYA54kSVLGGPAkSZIyxoAnSZKUMQY8ICJYv359szmOJElSQxjwJEmSMsaAlzdx4kQGDhxIjx49eOihh6rWRwQTJkyoc9vDDz9Mz549GThwID/84Q+botmSJElbadPUDWgyKUFE1WKrCGbNmsXixYsZOHAgp5xyCl27ds1ta9Vqq20A//zP/8ysWbPo0aMHP/7xj5vkNCRJkmrbM0fwJkyA8eNzIS/vsuXLYcIEevToQd++fXn++ec/2XbZZQA1tj3//PP07duXHj16AHD55Zc36ilIkiRty54X8FKCsjIoKakZ8u68M7c+JVJKRLXRvZq757alauFQkiSpOdnzAl4EFBfDuHG5kNcq1wV3DxgAxcUsWbqU0tJSTjrppKpd7r77bgCWLFlStW3AgAG8+OKLLFmyBIA77rij8c9FkiSpDnvmNXhbQl5JSdWq9uefz6CTT2bVqlXcfvvtVdffAbRv355BgwZttW3SpEmcc845HHDAAYwaNarRT0OSJKku0ZynGouKitLcuXN3/YFTyk3PVgt4jBuXC321pmYjgnXr1tGhQ4dd3w5JkpQZETEvpVTU1O2APXGKtnq4GzcOKis/ma6tdeOFJElSS7TnTdFGQKdONUfsiotz2zp12moErzmPcEqSJNVlz5yiha2eg7fVsiRJ0k5wirY5qB3mDHeSJCkj9tyAJ0mSlFEGPEmSpIwx4EmSJGWMAU+SJCljDHiSJEkZY8CTJEnKGAOeJElSxjTrBx1HxErgjaZuRxPrAqxq6kbsYezzxmefNz77vPHZ542rKfr7symlgxq5zjo164AniIi5zeWp2HsK+7zx2eeNzz5vfPZ549rT+9spWkmSpIwx4EmSJGWMAa/5m9TUDdgD2eeNzz5vfPZ547PPG9ce3d9egydJkpQxjuBJkiRljAGvmYiIYRGxOCKWRsS36tg+OCLWRkRp/uf7TdHOLNlRn+fLDM7398sR8XRjtzFr6vF7/m/VfscXRMTmiDigKdqaBfXo744R8YeI+Gv+d3xsU7QzS+rR550j4n8j4qWIeCEijmuKdmZJRNwVEe9FxIJtbI+I+Hn+f5OXIqJvY7exKThF2wxERGvgVWAo8BYwB/hySmlhtTKDgW+klEY0SSMzpp593gmYBQxLKb0ZEV1TSu81SYMzoD59Xqv8OcD4lNIZjdfK7Kjn7/j/B3RMKX0zIg4CFgOHpJTKm6LNLV09+/wnwPqU0o0R0RP4ZUppSJM0OCMi4lRgPXBfSmmrwBwRZwHXAmcBJwElKaWTGreVjc8RvObhRGBpSulv+T+svwHOa+I2ZV19+vwi4OGU0psAhrsG29nf8y8Dv26UlmVTffo7AftFRAAdgPeBisZtZqbUp8+PBWYCpJReAY6MiIMbt5nZklL6E7nf3W05j1z4Syml54FOEdGtcVrXdAx4zcNhwPJqy2/l19U2ID+V8lhE9GqcpmVWffr8C0DniHgqIuZFxJhGa1021ff3nIjYBxgGPNQI7cqq+vT3L4BjgHeA+cC4lFJl4zQvk+rT538FvgQQEScCnwUOb5TW7bnq/bcnS9o0dQMEQNSxrvbc+V/IvQJlfX64+XdA993esuyqT5+3AU4AhgB7A89FxPMppVd3d+Myqj59vsU5wJ9TStv7V7m2rz79/Y9AKXAGcDTwx4h4JqX0we5uXEbVp89vAkoiopRcqH4RR013t53525MZjuA1D28Bn6m2fDi5f1FXSSl9kFJan/8+DWgbEV0ar4mZs8M+z5eZnlL6MKW0CvgTUNBI7cui+vT5Fhfi9GxD1ae/x5K7DCGllJYCrwM9G6l9WVTfv+VjU0qFwBjgIHL9rt1nZ/72ZIYBr3mYA3SPiM9FRDty/+c2tXqBiDgkf53MlmH9VsDqRm9pduywz4HfA6dERJv8lOFJwKJGbmeW1KfPiYiOwGnk+l+fXn36+01yI9TkrwPrAfytUVuZLfX5W94pvw3ga8CfHDHd7aYCY/J30/YH1qaUVjR1o3Y3p2ibgZRSRUT8C/A40Bq4K6X0ckRcmd/+X8BI4KqIqAA2ABcmb4H+1OrT5ymlRRExHXgJqATuSCnVeRu+dqyev+cAXwSeSCl92ERNzYR69ve/A/dExHxy01jfzI9W61OoZ58fA9wXEZuBhcBlTdbgjIiIXwODgS4R8RZwA9AWqvp8Grk7aJcCH5Ebuc48H5MiSZKUMU7RSpIkZYwBT5IkKWMMeJIkSRljwJMkScoYA54kSVLGGPAkSZIyxoAnSZKUMQY8SZKkjPn/AaRmo5/Xx607AAAAAElFTkSuQmCC\n",
      "text/plain": [
       "<Figure size 720x360 with 1 Axes>"
      ]
     },
     "metadata": {
      "needs_background": "light"
     },
     "output_type": "display_data"
    }
   ],
   "source": [
    "words = ['barrels', 'bpd', 'ecuador', 'energy', 'industry', 'kuwait', 'oil', 'output', 'petroleum', 'venezuela']\n",
    "plot_embeddings(M_reduced_normalized, word2Ind, words)"
   ]
  },
  {
   "cell_type": "markdown",
   "metadata": {},
   "source": [
    "#### <font color=\"red\">Write your answer here.</font>"
   ]
  },
  {
   "cell_type": "markdown",
   "metadata": {},
   "source": [
    "### Cosine Similarity\n",
    "Now that we have word vectors, we need a way to quantify the similarity between individual words, according to these vectors. One such metric is cosine-similarity. We will be using this to find words that are \"close\" and \"far\" from one another.\n",
    "\n",
    "We can think of n-dimensional vectors as points in n-dimensional space. If we take this perspective [L1](http://mathworld.wolfram.com/L1-Norm.html) and [L2](http://mathworld.wolfram.com/L2-Norm.html) Distances help quantify the amount of space \"we must travel\" to get between these two points. Another approach is to examine the angle between two vectors. From trigonometry we know that:\n",
    "\n",
    "<img src=\"./img/inner_product.png\" width=20% style=\"float: center;\"></img>\n",
    "\n",
    "Instead of computing the actual angle, we can leave the similarity in terms of $similarity = cos(\\Theta)$. Formally the [Cosine Similarity](https://en.wikipedia.org/wiki/Cosine_similarity) $s$ between two vectors $p$ and $q$ is defined as:\n",
    "\n",
    "$$s = \\frac{p \\cdot q}{||p|| ||q||}, \\textrm{ where } s \\in [-1, 1] $$ "
   ]
  },
  {
   "cell_type": "markdown",
   "metadata": {},
   "source": [
    "### Question 2.2: Words with Multiple Meanings (2 points) [code + written] \n",
    "Polysemes and homonyms are words that have more than one meaning (see this [wiki page](https://en.wikipedia.org/wiki/Polysemy) to learn more about the difference between polysemes and homonyms ). Find a word with at least 2 different meanings such that the top-10 most similar words (according to cosine similarity) contain related words from *both* meanings. For example, \"leaves\" has both \"vanishes\" and \"stalks\" in the top 10, and \"scoop\" has both \"handed_waffle_cone\" and \"lowdown\". You will probably need to try several polysemous or homonymic words before you find one. Please state the word you discover and the multiple meanings that occur in the top 10. Why do you think many of the polysemous or homonymic words you tried didn't work (i.e. the top-10 most similar words only contain **one** of the meanings of the words)?\n",
    "\n",
    "**Note**: You should use the `wv_from_bin.most_similar(word)` function to get the top 10 similar words. This function ranks all other words in the vocabulary with respect to their cosine similarity to the given word. For further assistance please check the __[GenSim documentation](https://radimrehurek.com/gensim/models/keyedvectors.html#gensim.models.keyedvectors.FastTextKeyedVectors.most_similar)__."
   ]
  },
  {
   "cell_type": "code",
   "execution_count": null,
   "metadata": {},
   "outputs": [],
   "source": [
    "    # ------------------\n",
    "    # Write your implementation here.\n",
    "\n",
    "\n",
    "    # ------------------"
   ]
  },
  {
   "cell_type": "markdown",
   "metadata": {},
   "source": [
    "#### <font color=\"red\">Write your answer here.</font>"
   ]
  },
  {
   "cell_type": "markdown",
   "metadata": {},
   "source": [
    "### Question 2.3: Synonyms & Antonyms (2 points) [code + written] \n",
    "\n",
    "When considering Cosine Similarity, it's often more convenient to think of Cosine Distance, which is simply 1 - Cosine Similarity.\n",
    "\n",
    "Find three words (w1,w2,w3) where w1 and w2 are synonyms and w1 and w3 are antonyms, but Cosine Distance(w1,w3) < Cosine Distance(w1,w2). For example, w1=\"happy\" is closer to w3=\"sad\" than to w2=\"cheerful\". \n",
    "\n",
    "Once you have found your example, please give a possible explanation for why this counter-intuitive result may have happened.\n",
    "\n",
    "You should use the the `wv_from_bin.distance(w1, w2)` function here in order to compute the cosine distance between two words. Please see the __[GenSim documentation](https://radimrehurek.com/gensim/models/keyedvectors.html#gensim.models.keyedvectors.FastTextKeyedVectors.distance)__ for further assistance."
   ]
  },
  {
   "cell_type": "code",
   "execution_count": null,
   "metadata": {},
   "outputs": [],
   "source": [
    "    # ------------------\n",
    "    # Write your implementation here.\n",
    "\n",
    "\n",
    "    # ------------------"
   ]
  },
  {
   "cell_type": "markdown",
   "metadata": {},
   "source": [
    "#### <font color=\"red\">Write your answer here.</font>"
   ]
  },
  {
   "cell_type": "markdown",
   "metadata": {},
   "source": [
    "### Solving Analogies with Word Vectors\n",
    "Word vectors have been shown to *sometimes* exhibit the ability to solve analogies. \n",
    "\n",
    "As an example, for the analogy \"man : king :: woman : x\" (read: man is to king as woman is to x), what is x?\n",
    "\n",
    "In the cell below, we show you how to use word vectors to find x. The `most_similar` function finds words that are most similar to the words in the `positive` list and most dissimilar from the words in the `negative` list. The answer to the analogy will be the word ranked most similar (largest numerical value).\n",
    "\n",
    "**Note:** Further Documentation on the `most_similar` function can be found within the __[GenSim documentation](https://radimrehurek.com/gensim/models/keyedvectors.html#gensim.models.keyedvectors.FastTextKeyedVectors.most_similar)__."
   ]
  },
  {
   "cell_type": "code",
   "execution_count": null,
   "metadata": {},
   "outputs": [],
   "source": [
    "# Run this cell to answer the analogy -- man : king :: woman : x\n",
    "pprint.pprint(wv_from_bin.most_similar(positive=['woman', 'king'], negative=['man']))"
   ]
  },
  {
   "cell_type": "markdown",
   "metadata": {},
   "source": [
    "### Question 2.4: Finding Analogies [code + written]  (2 Points)\n",
    "Find an example of analogy that holds according to these vectors (i.e. the intended word is ranked top). In your solution please state the full analogy in the form x:y :: a:b. If you believe the analogy is complicated, explain why the analogy holds in one or two sentences.\n",
    "\n",
    "**Note**: You may have to try many analogies to find one that works!"
   ]
  },
  {
   "cell_type": "code",
   "execution_count": null,
   "metadata": {},
   "outputs": [],
   "source": [
    "    # ------------------\n",
    "    # Write your implementation here.\n",
    "\n",
    "\n",
    "    # ------------------"
   ]
  },
  {
   "cell_type": "markdown",
   "metadata": {},
   "source": [
    "#### <font color=\"red\">Write your answer here.</font>"
   ]
  },
  {
   "cell_type": "markdown",
   "metadata": {},
   "source": [
    "### Question 2.5: Incorrect Analogy [code + written] (1 point)\n",
    "Find an example of analogy that does *not* hold according to these vectors. In your solution, state the intended analogy in the form x:y :: a:b, and state the (incorrect) value of b according to the word vectors."
   ]
  },
  {
   "cell_type": "code",
   "execution_count": null,
   "metadata": {},
   "outputs": [],
   "source": [
    "    # ------------------\n",
    "    # Write your implementation here.\n",
    "\n",
    "\n",
    "    # ------------------"
   ]
  },
  {
   "cell_type": "markdown",
   "metadata": {},
   "source": [
    "#### <font color=\"red\">Write your answer here.</font>"
   ]
  },
  {
   "cell_type": "markdown",
   "metadata": {},
   "source": [
    "### Question 2.6: Guided Analysis of Bias in Word Vectors [written] (1 point)\n",
    "\n",
    "It's important to be cognizant of the biases (gender, race, sexual orientation etc.) implicit in our word embeddings. Bias can be dangerous because it can reinforce stereotypes through applications that employ these models.\n",
    "\n",
    "Run the cell below, to examine (a) which terms are most similar to \"woman\" and \"worker\" and most dissimilar to \"man\", and (b) which terms are most similar to \"man\" and \"worker\" and most dissimilar to \"woman\". Point out the difference between the list of female-associated words and the list of male-associated words, and explain how it is reflecting gender bias."
   ]
  },
  {
   "cell_type": "code",
   "execution_count": null,
   "metadata": {},
   "outputs": [],
   "source": [
    "# Run this cell\n",
    "# Here `positive` indicates the list of words to be similar to and `negative` indicates the list of words to be\n",
    "# most dissimilar from.\n",
    "pprint.pprint(wv_from_bin.most_similar(positive=['woman', 'worker'], negative=['man']))\n",
    "print()\n",
    "pprint.pprint(wv_from_bin.most_similar(positive=['man', 'worker'], negative=['woman']))"
   ]
  },
  {
   "cell_type": "markdown",
   "metadata": {},
   "source": [
    "#### <font color=\"red\">Write your answer here.</font>"
   ]
  },
  {
   "cell_type": "markdown",
   "metadata": {},
   "source": [
    "### Question 2.7: Independent Analysis of Bias in Word Vectors [code + written]  (1 point)\n",
    "\n",
    "Use the `most_similar` function to find another case where some bias is exhibited by the vectors. Please briefly explain the example of bias that you discover."
   ]
  },
  {
   "cell_type": "code",
   "execution_count": null,
   "metadata": {},
   "outputs": [],
   "source": [
    "    # ------------------\n",
    "    # Write your implementation here.\n",
    "\n",
    "\n",
    "    # ------------------"
   ]
  },
  {
   "cell_type": "markdown",
   "metadata": {},
   "source": [
    "#### <font color=\"red\">Write your answer here.</font>"
   ]
  },
  {
   "cell_type": "markdown",
   "metadata": {},
   "source": [
    "### Question 2.8: Thinking About Bias [written] (2 points)\n",
    "\n",
    "What might be the causes of these biases in the word vectors? You should give least 2 explainations how bias get into the word vectors. How might you be able to investigate/test these causes?"
   ]
  },
  {
   "cell_type": "markdown",
   "metadata": {},
   "source": [
    "#### <font color=\"red\">Write your answer here.</font>"
   ]
  },
  {
   "cell_type": "markdown",
   "metadata": {},
   "source": [
    "# <font color=\"blue\"> Submission Instructions</font>\n",
    "\n",
    "1. Click the Save button at the top of the Jupyter Notebook.\n",
    "2. Select Cell -> All Output -> Clear. This will clear all the outputs from all cells (but will keep the content of all cells). \n",
    "2. Select Cell -> Run All. This will run all the cells in order, and will take several minutes.\n",
    "3. Once you've rerun everything, select File -> Download as -> PDF via LaTeX (If you have trouble using \"PDF via LaTex\", you can also save the webpage as pdf. <font color='blue'> Make sure all your solutions especially the coding parts are displayed in the pdf</font>, it's okay if the provided codes get cut off because lines are not wrapped in code cells).\n",
    "4. Look at the PDF file and make sure all your solutions are there, displayed correctly. The PDF is the only thing your graders will see!\n",
    "5. Submit your PDF on Gradescope."
   ]
  },
  {
   "cell_type": "code",
   "execution_count": null,
   "metadata": {},
   "outputs": [],
   "source": []
  }
 ],
 "metadata": {
  "anaconda-cloud": {},
  "kernelspec": {
   "display_name": "Python 3",
   "language": "python",
   "name": "python3"
  },
  "language_info": {
   "codemirror_mode": {
    "name": "ipython",
    "version": 3
   },
   "file_extension": ".py",
   "mimetype": "text/x-python",
   "name": "python",
   "nbconvert_exporter": "python",
   "pygments_lexer": "ipython3",
   "version": "3.6.5"
  }
 },
 "nbformat": 4,
 "nbformat_minor": 4
}
